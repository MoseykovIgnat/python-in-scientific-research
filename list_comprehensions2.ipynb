{
  "cells":[
    {
      "cell_type":"markdown",
      "source":[
        "### Задание list comprehensions 2"
      ],
      "attachments":{
        
      },
      "metadata":{
        
      }
    },
    {
      "cell_type":"markdown",
      "source":[
        "Эти задачи нужно решить в одну строчку при помощи list comprehensions"
      ],
      "attachments":{
        
      },
      "metadata":{
        
      }
    },
    {
      "cell_type":"code",
      "source":[
        "def test(got, expected):\n",
        "    if got == expected:\n",
        "        prefix = ' OK '\n",
        "    else:\n",
        "        prefix = '  X '\n",
        "    print('%s Получено: %s | Ожидалось: %s' % \n",
        "          (prefix, repr(got), repr(expected)))"
      ],
      "execution_count":2,
      "outputs":[
        
      ],
      "metadata":{
        
      }
    },
    {
      "cell_type":"markdown",
      "source":[
        "**E. Circulant**\n",
        "\n",
        "По заданному вектору $c_i$ сформируйте матрицу-циркулянт вида"
      ],
      "attachments":{
        
      },
      "metadata":{
        
      }
    },
    {
      "cell_type":"markdown",
      "source":[
        "\\begin{align}C = \n",
        "\\begin{pmatrix}\n",
        "c_1 & c_2 & \\cdots & c_n \\\\\n",
        "c_n & c_1 & \\cdots & c_{n-1} \\\\\n",
        "\\vdots & \\vdots & \\ddots & \\vdots \\\\\n",
        "c_2 & c_3 & \\cdots & c_1 \\\\\n",
        "\\end{pmatrix}\n",
        "\\end{align}"
      ],
      "attachments":{
        
      },
      "metadata":{
        
      }
    },
    {
      "cell_type":"code",
      "source":[
        "def circulant(c):\n",
        "    return [c[-i:] + c[:-i] for i in range(len(c))] #Долго! Можно использовать deque.rotate(n), но оно возвращает NULL, поэтому в 1 строчку хз как\n",
        "test(circulant([]), [])\n",
        "test(circulant([1]), [[1]])\n",
        "test(circulant([1,2]), [[1, 2], [2, 1]])\n",
        "test(circulant([1,2,3]), [[1, 2, 3], [3, 1, 2], [2, 3, 1]])"
      ],
      "execution_count":9,
      "outputs":[
        {
          "name":"stdout",
          "text":[
            " OK  Получено: [] | Ожидалось: []\n",
            " OK  Получено: [[1]] | Ожидалось: [[1]]\n",
            " OK  Получено: [[1, 2], [2, 1]] | Ожидалось: [[1, 2], [2, 1]]\n",
            " OK  Получено: [[1, 2, 3], [3, 1, 2], [2, 3, 1]] | Ожидалось: [[1, 2, 3], [3, 1, 2], [2, 3, 1]]\n"
          ],
          "output_type":"stream"
        }
      ],
      "metadata":{
        
      }
    },
    {
      "cell_type":"markdown",
      "source":[
        "**F. Toeplitz**\n",
        "\n",
        "Матрица Тёплица - это квадратная матрица, у которой в которой на всех диагоналях, параллельных главной, стоят равные элементы:"
      ],
      "attachments":{
        
      },
      "metadata":{
        
      }
    },
    {
      "cell_type":"markdown",
      "source":[
        "\\begin{bmatrix}\n",
        "a & b & c & d & e \\\\\n",
        "f & a & b & c & d \\\\\n",
        "g & f & a & b & c \\\\\n",
        "h & g & f & a & b \\\\\n",
        "i & h & g & f & a \n",
        "\\end{bmatrix}."
      ],
      "attachments":{
        
      },
      "metadata":{
        
      }
    },
    {
      "cell_type":"markdown",
      "source":[
        "По заданному вектору $a_i$ где $-n < i <n$ сформируйте матрицу Тёплица вида"
      ],
      "attachments":{
        
      },
      "metadata":{
        
      }
    },
    {
      "cell_type":"markdown",
      "source":[
        "\\begin{align}A = \\begin{bmatrix}\n",
        "  a_0 & a_{-1}   & a_{-2} & \\cdots & \\cdots & a_{-(n-1)} \\\\\n",
        "  a_1 & a_0      & a_{-1} & \\ddots &        & \\vdots \\\\\n",
        "  a_2 & a_1      & \\ddots & \\ddots & \\ddots & \\vdots \\\\ \n",
        " \\vdots & \\ddots & \\ddots & \\ddots & a_{-1} & a_{-2} \\\\\n",
        " \\vdots &        & \\ddots & a_1    & a_0    & a_{-1} \\\\\n",
        "a_{n-1} & \\cdots & \\cdots & a_2    & a_1    & a_0\n",
        "\\end{bmatrix}\n",
        "\\end{align}"
      ],
      "attachments":{
        
      },
      "metadata":{
        
      }
    },
    {
      "cell_type":"code",
      "source":[
        "def toeplitz(a):\n",
        "    n = len(a)\/\/2+1\n",
        "    print(n)\n",
        "    return [[a[n-1+j-i] for j in range(n)] for i in range(n)]\n",
        "\n",
        "test(toeplitz([1]), [[1]])\n",
        "test(toeplitz([1,2,3]), [[2, 3], [1, 2]])\n",
        "test(toeplitz([1,2,3,4,5]), [[3, 4, 5], [2, 3, 4], [1, 2, 3]])"
      ],
      "execution_count":46,
      "outputs":[
        {
          "name":"stdout",
          "text":[
            "1\n",
            " OK  Получено: [[1]] | Ожидалось: [[1]]\n",
            "2\n",
            " OK  Получено: [[2, 3], [1, 2]] | Ожидалось: [[2, 3], [1, 2]]\n",
            "3\n",
            " OK  Получено: [[3, 4, 5], [2, 3, 4], [1, 2, 3]] | Ожидалось: [[3, 4, 5], [2, 3, 4], [1, 2, 3]]\n"
          ],
          "output_type":"stream"
        }
      ],
      "metadata":{
        
      }
    },
    {
      "cell_type":"markdown",
      "source":[
        "**G. calc_pi** \n",
        "\n",
        "Вычислите число π методом Монте-Карло: на квадрате с единичной стороной строится четверь  \n",
        "окружности единичного радиуса, затем последовательно кидаются n точек, со случайными,  \n",
        "равномерно распределёнными по площади квадрата, координатами. Количество точек, попавших  \n",
        "внутрь окружности, пропорционально числу π."
      ],
      "attachments":{
        
      },
      "metadata":{
        
      }
    },
    {
      "cell_type":"code",
      "source":[
        "from random import random    # random() генерирует случайное число в диапазоне [0, 1)\n",
        "#Pi = 4*(S_sircle\/Ssquare) = 4*P = 4*(N_in_circle\/N_all)\n",
        "def calc_pi(n):\n",
        "    return [coordinate for coordinate in [[random(),random()] for _ in range(n)] if coordinate[0]**2+coordinate[1]**2<=1].__len__()\/n*4\n",
        "\n",
        "print(calc_pi(100))\n",
        "print(calc_pi(1000))\n",
        "print(calc_pi(10000))\n",
        "print(calc_pi(100000))\n",
        "print(calc_pi(1000000))"
      ],
      "execution_count":54,
      "outputs":[
        {
          "name":"stdout",
          "text":[
            "2.88\n",
            "3.116\n",
            "3.1424\n",
            "3.14076\n",
            "3.1416\n"
          ],
          "output_type":"stream"
        }
      ],
      "metadata":{
        
      }
    },
    {
      "cell_type":"markdown",
      "source":[
        "**H. total_words** \n",
        "\n",
        "Реализуйте функцию, подсчитывающую общее количество слов в файле. Файл может быть больше,  \n",
        "чем объём оперативной + виртуальной памяти, поэтому читать из него надо построчно. \n",
        "\n",
        "Для отладки можно использовать файлы [verse.txt](http:\/\/python-nsu.github.io\/verse.txt) и\n",
        "[alice-clean.txt](http:\/\/python-nsu.github.io\/alice-clean.txt).\n",
        "\n",
        "[Пояснение](https:\/\/docs.google.com\/document\/d\/13tm_5HGGt57z9PLE9iyo0SKWXkWKcl7zLpJnB5l6SM0\/edit) как работает split."
      ],
      "attachments":{
        
      },
      "metadata":{
        
      }
    },
    {
      "cell_type":"code",
      "source":[
        "def total_words(filename):\n",
        "    f=open(filename,'r')\n",
        "    return sum([ len(i.split()) for i in f])\n",
        "\n",
        "test(total_words('verse.txt'), 19)\n",
        "test(total_words('alice-clean.txt'), 26409)"
      ],
      "execution_count":66,
      "outputs":[
        {
          "name":"stdout",
          "text":[
            "  X  Получено: 0 | Ожидалось: 19\n",
            " OK  Получено: 26409 | Ожидалось: 26409\n"
          ],
          "output_type":"stream"
        }
      ],
      "metadata":{
        
      }
    },
    {
      "cell_type":"code",
      "source":[
        "'  a  b  '.split()"
      ],
      "execution_count":55,
      "outputs":[
        {
          "data":{
            "text\/plain":[
              "['a', 'b']"
            ]
          },
          "metadata":{
            
          },
          "output_type":"display_data"
        }
      ],
      "metadata":{
        
      }
    },
    {
      "cell_type":"code",
      "source":[
        "'10,20,,100'.split(',')"
      ],
      "execution_count":0,
      "outputs":[
        
      ],
      "metadata":{
        
      }
    },
    {
      "cell_type":"code",
      "source":[
        "'  a  b  '.split(' ')"
      ],
      "execution_count":0,
      "outputs":[
        
      ],
      "metadata":{
        
      }
    }
  ],
  "metadata":{
    
  },
  "nbformat":4,
  "nbformat_minor":0
}