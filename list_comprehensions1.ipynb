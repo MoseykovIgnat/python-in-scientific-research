{
  "cells":[
    {
      "cell_type":"markdown",
      "source":[
        "### Задание list comprehensions 1"
      ],
      "attachments":{
        
      },
      "metadata":{
        
      }
    },
    {
      "cell_type":"markdown",
      "source":[
        "Эти задачи нужно решить в одну строчку при помощи list comprehensions"
      ],
      "attachments":{
        
      },
      "metadata":{
        
      }
    },
    {
      "cell_type":"code",
      "source":[
        "def test(got, expected):\n",
        "    if got == expected:\n",
        "        prefix = ' OK '\n",
        "    else:\n",
        "        prefix = '  X '\n",
        "    print('%s Получено: %s | Ожидалось: %s' % \n",
        "          (prefix, repr(got), repr(expected)))"
      ],
      "execution_count":3,
      "outputs":[
        
      ],
      "metadata":{
        
      }
    },
    {
      "cell_type":"markdown",
      "source":[
        "**A. even** \n",
        "\n",
        "Напишите функцию, которая выбирает чётные числа из списка и возращает их в виде нового списка. \n",
        "Подсказка: 7 % 3 == 1"
      ],
      "attachments":{
        
      },
      "metadata":{
        
      }
    },
    {
      "cell_type":"code",
      "source":[
        "def even(lst):\n",
        "    return [ i for i in lst if i%2==0]"
      ],
      "execution_count":6,
      "outputs":[
        
      ],
      "metadata":{
        
      }
    },
    {
      "cell_type":"code",
      "source":[
        "test(even([]), [])\n",
        "test(even([1, 2, 3]), [2])\n",
        "test(even([0, 12, 5, 12, -8, 101, 1000]), [0, 12, 12, -8, 1000])"
      ],
      "execution_count":7,
      "outputs":[
        {
          "name":"stdout",
          "text":[
            " OK  Получено: [] | Ожидалось: []\n",
            " OK  Получено: [2] | Ожидалось: [2]\n",
            " OK  Получено: [0, 12, 12, -8, 1000] | Ожидалось: [0, 12, 12, -8, 1000]\n"
          ],
          "output_type":"stream"
        }
      ],
      "metadata":{
        
      }
    },
    {
      "cell_type":"markdown",
      "source":[
        "**B. count** \n",
        "\n",
        "Реализуйте функцию `count(d, n)`, которая вычисляет, сколько раз цифра d  \n",
        " встречается в десятичной записи чисел от 1 до n (в частности, цифра 5 в числе 1575  \n",
        " встречается 2 раза). Например, для d=5, n=100 нужно вернуть 20.  \n",
        " Подсказки:  \n",
        " &nbsp; &nbsp;  • у строк есть метод count(), например `'abca'.count('a') == 2`  \n",
        " &nbsp; &nbsp; • есть встроенная функция `sum([1,2,3]) == 6`"
      ],
      "attachments":{
        
      },
      "metadata":{
        
      }
    },
    {
      "cell_type":"code",
      "source":[
        "def count(d, n):\n",
        "    return [i for i in range(1,n+1) if d in str(i)].__len__()"
      ],
      "execution_count":34,
      "outputs":[
        
      ],
      "metadata":{
        
      }
    },
    {
      "cell_type":"code",
      "source":[
        "test(count('5', 10), 1)\n",
        "test(count('0', 10), 1)\n",
        "test(count('9', 9), 1)\n",
        "test(count('5', 100), 20)\n",
        "test(count('5', 1000), 300)"
      ],
      "execution_count":35,
      "outputs":[
        {
          "name":"stdout",
          "text":[
            " OK  Получено: 1 | Ожидалось: 1\n",
            " OK  Получено: 1 | Ожидалось: 1\n",
            " OK  Получено: 1 | Ожидалось: 1\n",
            "  X  Получено: 19 | Ожидалось: 20\n",
            "  X  Получено: 271 | Ожидалось: 300\n"
          ],
          "output_type":"stream"
        }
      ],
      "metadata":{
        
      }
    },
    {
      "cell_type":"markdown",
      "source":[
        " **C. palindromes** \n",
        " \n",
        " Палиндром - слово, которое одинаково читается слева направо и справа налево.  \n",
        " Реализуйте функциу `palindromes(a, b)`, которая вычисляет количество чисел-  \n",
        " палиндромов (например, 141) в заданном диапазоне $a \\leqslant x \\leqslant b$."
      ],
      "attachments":{
        
      },
      "metadata":{
        
      }
    },
    {
      "cell_type":"code",
      "source":[
        "def palindromes(a, b):\n",
        "    return [i for i in range(a,b+1) if str(i)==str(i)[::-1]].__len__()"
      ],
      "execution_count":40,
      "outputs":[
        
      ],
      "metadata":{
        
      }
    },
    {
      "cell_type":"code",
      "source":[
        "test(palindromes(10, 50), 4)\n",
        "test(palindromes(11, 22), 2)\n",
        "test(palindromes(12, 22), 1)\n",
        "test(palindromes(1, 100), 18)\n",
        "test(palindromes(1, 1000000), 1998)"
      ],
      "execution_count":41,
      "outputs":[
        {
          "name":"stdout",
          "text":[
            " OK  Получено: 4 | Ожидалось: 4\n",
            " OK  Получено: 2 | Ожидалось: 2\n",
            " OK  Получено: 1 | Ожидалось: 1\n",
            " OK  Получено: 18 | Ожидалось: 18\n",
            " OK  Получено: 1998 | Ожидалось: 1998\n"
          ],
          "output_type":"stream"
        }
      ],
      "metadata":{
        
      }
    },
    {
      "cell_type":"markdown",
      "source":[
        "**D. vandermonde** \n",
        "\n",
        "По заданному вектору $x_i$ cформируйте матрицу Вандермонда вида\n",
        "\n",
        "\\begin{bmatrix}\n",
        "1 & x_1 & x_1^2 & \\dots & x_1^{n-1}\\\\\n",
        "1 & x_2 & x_2^2 & \\dots & x_2^{n-1}\\\\\n",
        "1 & x_3 & x_3^2 & \\dots & x_3^{n-1}\\\\\n",
        "\\vdots & \\vdots & \\vdots & \\ddots &\\vdots \\\\\n",
        "1 & x_m & x_m^2 & \\dots & x_m^{n-1}\n",
        "\\end{bmatrix}"
      ],
      "attachments":{
        
      },
      "metadata":{
        
      }
    },
    {
      "cell_type":"markdown",
      "source":[
        "Для отладки можно использовать вот такой визуализатор матриц:"
      ],
      "attachments":{
        
      },
      "metadata":{
        
      }
    },
    {
      "cell_type":"code",
      "source":[
        "from IPython.display import display, Math\n",
        "import re, sympy\n",
        "def vis(*args):\n",
        "    def _(x):\n",
        "        return re.sub(r'\\.0\\b', '', sympy.latex(sympy.Matrix(x)))\n",
        "    display(Math(' '.join(('\\cdot' if x=='*' else x) \n",
        "                          if isinstance(x, str) else _(x) for x in args)))"
      ],
      "execution_count":44,
      "outputs":[
        
      ],
      "metadata":{
        
      }
    },
    {
      "cell_type":"code",
      "source":[
        "vis([2,3,4,5])"
      ],
      "execution_count":46,
      "outputs":[
        {
          "data":{
            "text\/latex":[
              "$\\displaystyle \\left[\\begin{matrix}2\\\\3\\\\4\\\\5\\end{matrix}\\right]$"
            ]
          },
          "metadata":{
            
          },
          "output_type":"display_data"
        }
      ],
      "metadata":{
        
      }
    },
    {
      "cell_type":"code",
      "source":[
        "def vandermonde(x):\n",
        "    return [[i**n for n in range(len(x))] for i in x]\n",
        "\n",
        "test(vandermonde([]), [])\n",
        "test(vandermonde([1]), [[1]])\n",
        "test(vandermonde([2,3,4,5]), [[1, 2, 4, 8], [1, 3, 9, 27], [1, 4, 16, 64], [1, 5, 25, 125]])"
      ],
      "execution_count":49,
      "outputs":[
        {
          "name":"stdout",
          "text":[
            " OK  Получено: [] | Ожидалось: []\n",
            " OK  Получено: [[1]] | Ожидалось: [[1]]\n",
            " OK  Получено: [[1, 2, 4, 8], [1, 3, 9, 27], [1, 4, 16, 64], [1, 5, 25, 125]] | Ожидалось: [[1, 2, 4, 8], [1, 3, 9, 27], [1, 4, 16, 64], [1, 5, 25, 125]]\n"
          ],
          "output_type":"stream"
        }
      ],
      "metadata":{
        
      }
    }
  ],
  "metadata":{
    
  },
  "nbformat":4,
  "nbformat_minor":0
}