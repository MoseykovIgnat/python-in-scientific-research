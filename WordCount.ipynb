{
  "cells":[
    {
      "cell_type":"code",
      "source":[
        "import re"
      ],
      "execution_count":207,
      "outputs":[
        
      ],
      "metadata":{
        
      }
    },
    {
      "cell_type":"code",
      "source":[
        "def find_all_words(line):\n",
        "    list = re.findall('([A-Za-z]+)',line)\n",
        "    return list"
      ],
      "execution_count":208,
      "outputs":[
        
      ],
      "metadata":{
        
      }
    },
    {
      "cell_type":"code",
      "source":[
        "def word_counter(name_of_file, res):\n",
        "    try:\n",
        "        text_file = open(name_of_file, 'r')\n",
        "        counter = 0\n",
        "        for line in text_file:\n",
        "            list_line = find_all_words(line.lower())            \n",
        "            if list_line:\n",
        "                for elem in list_line:\n",
        "                    if len(elem)>=4:\n",
        "                        res[elem]=1 if elem not in res else res[elem]+1 #default dict\n",
        "            counter += 1\n",
        "        text_file.close()    \n",
        "    except Exception as e:\n",
        "        print(e)"
      ],
      "execution_count":209,
      "outputs":[
        
      ],
      "metadata":{
        
      }
    },
    {
      "cell_type":"code",
      "source":[
        "res_list = dict()\n",
        "word_counter('alice.txt',res_list)\n",
        "#### Первый пункт\n",
        "# for key, value in sorted(res_list.items()):\n",
        "#     print(key, value)\n",
        "\n",
        "\n",
        "#### Второй пункт\n",
        "for key, value in sorted(res_list.items(), key=lambda item: (item[1]*(-1),item[0]))[:10]:\n",
        "    print(key, value)\n",
        "\n",
        "# for w in sorted(res_list,key=res_list.get, reverse=True)[:10]:\n",
        "#     print(w,res_list[w])"
      ],
      "execution_count":210,
      "outputs":[
        {
          "name":"stdout",
          "text":[
            "said 462\n",
            "alice 399\n",
            "that 315\n",
            "with 180\n",
            "they 152\n",
            "very 144\n",
            "what 141\n",
            "this 134\n",
            "little 128\n",
            "down 102\n"
          ],
          "output_type":"stream"
        }
      ],
      "metadata":{
        
      }
    },
    {
      "cell_type":"code",
      "source":[
        
      ],
      "execution_count":210,
      "outputs":[
        
      ],
      "metadata":{
        
      }
    },
    {
      "cell_type":"code",
      "source":[
        
      ],
      "execution_count":210,
      "outputs":[
        
      ],
      "metadata":{
        
      }
    }
  ],
  "metadata":{
    
  },
  "nbformat":4,
  "nbformat_minor":0
}