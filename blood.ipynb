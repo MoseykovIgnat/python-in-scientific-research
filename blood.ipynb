{
  "cells":[
    {
      "cell_type":"markdown",
      "source":[
        "### Задание blood"
      ],
      "attachments":{
        
      },
      "metadata":{
        
      }
    },
    {
      "cell_type":"code",
      "source":[
        "def test(got, expected):\n",
        "    prefix = ' OK ' if got == expected else '  X '\n",
        "    print(f'{prefix} Получено: {got} | Ожидалось: {expected}')"
      ],
      "execution_count":25,
      "outputs":[
        
      ],
      "metadata":{
        
      }
    },
    {
      "cell_type":"code",
      "source":[
        "%%html\n",
        "<style>\n",
        "table{\n",
        "border-collapse: collapse;\n",
        "}\n",
        "td {\n",
        "border: 1px solid gray !important;\n",
        "width: 40px;\n",
        "text-align: center !important;\n",
        "}\n",
        "<\/style>"
      ],
      "execution_count":26,
      "outputs":[
        {
          "data":{
            "text\/html":[
              "<style>\n",
              "table{\n",
              "border-collapse: collapse;\n",
              "}\n",
              "td {\n",
              "border: 1px solid gray !important;\n",
              "width: 40px;\n",
              "text-align: center !important;\n",
              "}\n",
              "<\/style>\n"
            ]
          },
          "metadata":{
            
          },
          "output_type":"display_data"
        }
      ],
      "metadata":{
        
      }
    },
    {
      "cell_type":"markdown",
      "source":[
        "**A.** Создайте словарь, который по номеру группы крови возвращал бы её название в соответствии с таблицей:\n",
        "<table>\n",
        "<tr><td>1<\/td><td>O<\/td>\n",
        "<tr><td>2<\/td><td>A<\/td>\n",
        "<tr><td>3<\/td><td>B<\/td>\n",
        "<tr><td>4<\/td><td>AB<\/td>\n",
        "<\/table>"
      ],
      "attachments":{
        
      },
      "metadata":{
        
      }
    },
    {
      "cell_type":"code",
      "source":[
        "types = {1:'O',2:'A',3:'B',4:'AB'}    # todo"
      ],
      "execution_count":27,
      "outputs":[
        
      ],
      "metadata":{
        
      }
    },
    {
      "cell_type":"code",
      "source":[
        "test(types[4], 'AB')\n",
        "test(types[1], 'O')"
      ],
      "execution_count":28,
      "outputs":[
        {
          "name":"stdout",
          "text":[
            " OK  Получено: AB | Ожидалось: AB\n",
            " OK  Получено: O | Ожидалось: O\n"
          ],
          "output_type":"stream"
        }
      ],
      "metadata":{
        
      }
    },
    {
      "cell_type":"markdown",
      "source":[
        "**B.** Релизуйте функцию `invert`, которая бы обращала словарь так, чтобы в полученном словаре по значению можно было бы получить ключ.\n",
        "Уникальность значений в исходном словаре гарантируется."
      ],
      "attachments":{
        
      },
      "metadata":{
        
      }
    },
    {
      "cell_type":"code",
      "source":[
        "def invert(d):\n",
        "    return {v: k for k, v in d.items()}"
      ],
      "execution_count":44,
      "outputs":[
        
      ],
      "metadata":{
        
      }
    },
    {
      "cell_type":"code",
      "source":[
        "inv_types = invert(types)\n",
        "inv_types"
      ],
      "execution_count":45,
      "outputs":[
        {
          "data":{
            "text\/plain":[
              "{'O': 1, 'A': 2, 'B': 3, 'AB': 4}"
            ]
          },
          "metadata":{
            
          },
          "output_type":"display_data"
        }
      ],
      "metadata":{
        
      }
    },
    {
      "cell_type":"code",
      "source":[
        "test(inv_types['A'], 2)\n",
        "test(inv_types['AB'], 4)"
      ],
      "execution_count":46,
      "outputs":[
        {
          "name":"stdout",
          "text":[
            " OK  Получено: 2 | Ожидалось: 2\n",
            " OK  Получено: 4 | Ожидалось: 4\n"
          ],
          "output_type":"stream"
        }
      ],
      "metadata":{
        
      }
    },
    {
      "cell_type":"markdown",
      "source":[
        "**C.** Дан словарь, где по имени человека можно было бы получить его группу крови:"
      ],
      "attachments":{
        
      },
      "metadata":{
        
      }
    },
    {
      "cell_type":"code",
      "source":[
        "blood_type = {'Oliver': 4, 'Emma': 2, 'Amelia': 1, 'Lucas': 2}"
      ],
      "execution_count":47,
      "outputs":[
        
      ],
      "metadata":{
        
      }
    },
    {
      "cell_type":"markdown",
      "source":[
        "Реализуйте функцию `better_invert`, формирующую словарь, в котором по номеру группы крови можно было бы получить список имён людей с этой группой."
      ],
      "attachments":{
        
      },
      "metadata":{
        
      }
    },
    {
      "cell_type":"code",
      "source":[
        "def better_invert(d):\n",
        "    result = dict()\n",
        "    for k,v in d.items():\n",
        "        # print(k,v)\n",
        "        result[v]=[k] if v not in result else result[v]+[k]\n",
        "    return result"
      ],
      "execution_count":48,
      "outputs":[
        
      ],
      "metadata":{
        
      }
    },
    {
      "cell_type":"code",
      "source":[
        "by_type = better_invert(blood_type)\n",
        "by_type"
      ],
      "execution_count":49,
      "outputs":[
        {
          "data":{
            "text\/plain":[
              "{4: ['Oliver'], 2: ['Emma', 'Lucas'], 1: ['Amelia']}"
            ]
          },
          "metadata":{
            
          },
          "output_type":"display_data"
        }
      ],
      "metadata":{
        
      }
    },
    {
      "cell_type":"code",
      "source":[
        "test(by_type[4], ['Oliver'])\n",
        "test(set(by_type[2]), set(['Lucas', 'Emma']))"
      ],
      "execution_count":50,
      "outputs":[
        {
          "name":"stdout",
          "text":[
            " OK  Получено: ['Oliver'] | Ожидалось: ['Oliver']\n",
            " OK  Получено: {'Emma', 'Lucas'} | Ожидалось: {'Emma', 'Lucas'}\n"
          ],
          "output_type":"stream"
        }
      ],
      "metadata":{
        
      }
    },
    {
      "cell_type":"markdown",
      "source":[
        "**D.** Файл `blood.csv` имеет следующий формат: (пол, группа крови, резус-фактор, кол-во)\n",
        "\n",
        "    Male,B,Negative,4\n",
        "    Female,AB,Positive,2\n",
        "    ...\n",
        "    \n",
        "Первая строчка - заголовок."
      ],
      "attachments":{
        
      },
      "metadata":{
        
      }
    },
    {
      "cell_type":"markdown",
      "source":[
        "Реализуйте функцию, которая бы считывала данные из этого файла и по номеру группы крови (используя выше определённый словарь `types` или `inv_types`) вычисляла бы какой процент людей (среди тех, у которых группа крови известна), обладают данной группой крови. "
      ],
      "attachments":{
        
      },
      "metadata":{
        
      }
    },
    {
      "cell_type":"code",
      "source":[
        "blood_type_matching = {'O': 1,'A': 2, 'B': 3, 'AB': 4, 'Unknown': 'Unknown'}"
      ],
      "execution_count":36,
      "outputs":[
        
      ],
      "metadata":{
        
      }
    },
    {
      "cell_type":"code",
      "source":[
        "text_file = open('\/data\/notebook_files\/blood.csv', 'r')\n",
        "d=dict()\n",
        "text_file.readline()\n",
        "result_amount_of_hum = 0\n",
        "for line in text_file:         \n",
        "   splited_line = line.split(',')\n",
        "   blood_type=splited_line[1]\n",
        "   amount_of_humans = int(splited_line[3])\n",
        "   if blood_type != 'Unknown':\n",
        "       result_amount_of_hum += amount_of_humans\n",
        "   d[blood_type_matching[blood_type]]=amount_of_humans if blood_type_matching[blood_type] not in d else d[blood_type_matching[blood_type]]+amount_of_humans\n",
        "text_file.close()  \n",
        "d['Total number of people with def blood type']=result_amount_of_hum\n",
        "print(d)"
      ],
      "execution_count":37,
      "outputs":[
        {
          "name":"stdout",
          "text":[
            "{'Unknown': 51, 2: 17, 3: 9, 4: 4, 1: 19, 'Total number of people with def blood type': 49}\n"
          ],
          "output_type":"stream"
        }
      ],
      "metadata":{
        
      }
    },
    {
      "cell_type":"code",
      "source":[
        "def count_by_type(n):\n",
        "    return (d[n]\/d['Total number of people with def blood type'])*100"
      ],
      "execution_count":38,
      "outputs":[
        
      ],
      "metadata":{
        
      }
    },
    {
      "cell_type":"code",
      "source":[
        "test(round(count_by_type(1), 3), 38.776)\n",
        "test(round(count_by_type(3), 3), 18.367)"
      ],
      "execution_count":39,
      "outputs":[
        {
          "name":"stdout",
          "text":[
            " OK  Получено: 38.776 | Ожидалось: 38.776\n",
            " OK  Получено: 18.367 | Ожидалось: 18.367\n"
          ],
          "output_type":"stream"
        }
      ],
      "metadata":{
        
      }
    }
  ],
  "metadata":{
    
  },
  "nbformat":4,
  "nbformat_minor":0
}