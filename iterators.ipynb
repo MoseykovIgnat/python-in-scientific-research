{
  "cells":[
    {
      "cell_type":"code",
      "source":[
        "from itertools import *"
      ],
      "execution_count":13,
      "outputs":[
        
      ],
      "metadata":{
        "datalore":{
          "sheet_delimiter":false
        }
      }
    },
    {
      "cell_type":"code",
      "source":[
        "def test(got, expected):\n",
        "    print(' OK ' if got == expected else '  X ' + \n",
        "          f' Получено: {got} | Ожидалось: {expected}')"
      ],
      "execution_count":14,
      "outputs":[
        
      ],
      "metadata":{
        "datalore":{
          "sheet_delimiter":false
        }
      }
    },
    {
      "cell_type":"code",
      "source":[
        "def first_true(iterable, default=None):\n",
        "    \"\"\"Возвращает первый элемент, bool() от которого равен True\n",
        "    Если таких нет, возвращает default\"\"\"\n",
        "    for i in iterable:\n",
        "        if i:\n",
        "            return i\n",
        "    return default\n",
        "    \n",
        "test(first_true(['', '', 'a', 'b']), 'a')\n",
        "test(first_true([0, 0, 0, 10, 7]), 10)\n",
        "test(first_true([0, 0, 0], -1), -1)"
      ],
      "execution_count":3,
      "outputs":[
        {
          "name":"stdout",
          "text":[
            " OK \n",
            " OK \n",
            " OK \n"
          ],
          "output_type":"stream"
        }
      ],
      "metadata":{
        "datalore":{
          "sheet_delimiter":false
        }
      }
    },
    {
      "cell_type":"code",
      "source":[
        "def same(iterable1, iterable2, fillvalue=None):\n",
        "    \"\"\"Проверяет, равны ли попарно значения из iterable1 и iterable2.\n",
        "    Если один из них короче, дополняет его значениями fillvalue\"\"\"\n",
        "    for elem in zip_longest(iterable1,iterable2, fillvalue=fillvalue):\n",
        "        if elem[0] != elem[1]:\n",
        "            return False\n",
        "    return True\n",
        "\n",
        "test(same('abc', 'abc'), True)\n",
        "test(same('abc', 'abcd'), False)\n",
        "test(same('abc', 'abcd', fillvalue='d'), True)"
      ],
      "execution_count":4,
      "outputs":[
        {
          "name":"stdout",
          "text":[
            " OK \n",
            " OK \n",
            " OK \n"
          ],
          "output_type":"stream"
        }
      ],
      "metadata":{
        "datalore":{
          "sheet_delimiter":false
        }
      }
    },
    {
      "cell_type":"code",
      "source":[
        "def ilen(iterable):\n",
        "    \"Возвращает длину итератора. Не работает для бесконечных итераторов (зависает).\"\n",
        "    return sum(1 for elem in iterable)  \n",
        "\n",
        "test(ilen(''), 0)\n",
        "test(ilen('abc'), 3)\n",
        "test(ilen([None, None]), 2)\n",
        "test(ilen(range(int(1e6))), int(1e6))"
      ],
      "execution_count":5,
      "outputs":[
        {
          "name":"stdout",
          "text":[
            " OK \n",
            " OK \n",
            " OK \n",
            " OK \n"
          ],
          "output_type":"stream"
        }
      ],
      "metadata":{
        "datalore":{
          "sheet_delimiter":false
        }
      }
    },
    {
      "cell_type":"code",
      "source":[
        "def long_words(iterable, n=4):\n",
        "    \"Возвращает (в виде итератора) слова длиной не менее n символов\"\n",
        "    for elem in iterable:\n",
        "        if len(elem) >= n:\n",
        "            yield elem\n",
        "\n",
        "test(list(long_words(\n",
        "        'Карл клал лук на ларь Клара крала лук с ларя'.split())),\n",
        "        ['Карл', 'клал', 'ларь', 'Клара', 'крала', 'ларя'])\n",
        "test(list(islice(long_words(str(i) for i in count()), 3)), ['1000', '1001', '1002'])"
      ],
      "execution_count":6,
      "outputs":[
        {
          "name":"stdout",
          "text":[
            " OK \n",
            " OK \n"
          ],
          "output_type":"stream"
        }
      ],
      "metadata":{
        "datalore":{
          "sheet_delimiter":false
        }
      }
    },
    {
      "cell_type":"code",
      "source":[
        "def dotproduct(vec1, vec2):\n",
        "    \"Вычисляет склярное произведение двух векторов.\"\n",
        "    return sum(x * y for x, y in zip(vec1,vec2))\n",
        "    \n",
        "\n",
        "test(dotproduct([], []), 0)\n",
        "test(dotproduct([1, 2, 3], [2, 3, 4]), 20)\n",
        "test(dotproduct(list(range(1000000)), list(range(1000000))), 333332833333500000)"
      ],
      "execution_count":7,
      "outputs":[
        {
          "name":"stdout",
          "text":[
            " OK \n",
            " OK \n",
            " OK \n"
          ],
          "output_type":"stream"
        }
      ],
      "metadata":{
        "datalore":{
          "sheet_delimiter":false
        }
      }
    },
    {
      "cell_type":"code",
      "source":[
        "# class MyIter:\n",
        "#     def __init__(self, a, n, def_val):\n",
        "#         self.i = 0\n",
        "#         self.a = a\n",
        "#         self.n = n\n",
        "#         self.def_val = def_val\n",
        "        \n",
        "#     def __next__(self):\n",
        "#         if self.i < self.n:\n",
        "#             try:\n",
        "#                 if self.i < len(self.a):\n",
        "#                     v = self.a[self.i]\n",
        "#                     self.i += 1\n",
        "#                     return v\n",
        "#                 else:\n",
        "#                     self.i += 1\n",
        "#                     return self.def_val\n",
        "#             except:\n",
        "#                 if self.a\n",
        "\n",
        "            \n",
        "#         else:\n",
        "#             raise StopIteration\n",
        "#     def __iter__(self):\n",
        "#         return self"
      ],
      "execution_count":8,
      "outputs":[
        
      ],
      "metadata":{
        "datalore":{
          "sheet_delimiter":false
        }
      }
    },
    {
      "cell_type":"code",
      "source":[
        "# a = [3, 1, 4]                           \n",
        "# p = MyIter(a,5,'hi')\n",
        "# while True:\n",
        "#     try:\n",
        "#         print(next(p))\n",
        "#     except StopIteration:\n",
        "#         break"
      ],
      "execution_count":9,
      "outputs":[
        
      ],
      "metadata":{
        "datalore":{
          "sheet_delimiter":false
        }
      }
    },
    {
      "cell_type":"code",
      "source":[
        "def take(iterable, n, fillvalue=None):\n",
        "    \"Возвращает первые n элементов в виде списка. Если элементов меньше n,\"\n",
        "    \"заполняет оставшееся место значениями fillvalue.\"\n",
        "    # Подсказка: здесь может пригодиться необязательный второй аргумент\n",
        "    # функции next(it, default)\n",
        "    res = list()\n",
        "    p = iter(iterable)\n",
        "    return [next(p, fillvalue) for i in range(n)]\n",
        "\n",
        "test(take([2, 4, 6, 8], 3), [2, 4, 6])\n",
        "test(take('ja', 4, 'z'), list('jazz'))\n",
        "test(take(count(), 3), [0, 1, 2])"
      ],
      "execution_count":10,
      "outputs":[
        {
          "name":"stdout",
          "text":[
            " OK \n",
            " OK \n",
            " OK \n"
          ],
          "output_type":"stream"
        }
      ],
      "metadata":{
        "datalore":{
          "sheet_delimiter":false
        }
      }
    },
    {
      "cell_type":"code",
      "source":[
        "def tabulate(function, start=0):\n",
        "    \"Возвращает function(0), function(1), ...\"\n",
        "    while True:\n",
        "        yield function(start)\n",
        "        start += 1\n",
        "\n",
        "from math import pi, isclose\n",
        "test(take(tabulate(lambda x: x**2, 5), 3), [25, 36, 49])\n",
        "test(isclose(sum(take(tabulate(lambda x: 1\/x**2, 1), 10**5)),\n",
        "             pi**2\/6,\n",
        "             rel_tol=10**-5), # проверяет равенство с точностью \"до 5-го знака после запятой\"\n",
        "     True)  "
      ],
      "execution_count":11,
      "outputs":[
        {
          "name":"stdout",
          "text":[
            " OK \n",
            " OK \n"
          ],
          "output_type":"stream"
        }
      ],
      "metadata":{
        "datalore":{
          "sheet_delimiter":false
        }
      }
    },
    {
      "cell_type":"code",
      "source":[
        "# a = 'abcdefd'\n",
        "# print([i for i in zip_longest(*(a[i::3] for i in range(3)),fillvalue='x' )])\n",
        "# z=list()\n",
        "# for i in zip_longest(*(a[i::2] for i in range(2)),fillvalue='x'):\n",
        "#     print(i)\n",
        "#     z.append(i)\n",
        "# print(z)\n",
        "\n",
        "def chunked(iterable, n, fillvalue=None):\n",
        "    \"Собирает элементы в группы (tuple'ы) по n элементов. Если в последней\"\n",
        "    \"группе недостача, заполняет её при помощи fillvalue. Возвращает итератор.\"\n",
        "    # Не работает для итераторов, а жаль(\n",
        "    # return (elem for elem in zip_longest(*(iterable[elem::n] for elem in range(n)),fillvalue=fillvalue ))\n",
        "    return zip_longest(*[iter(iterable)] * n, fillvalue=fillvalue)\n",
        "\n",
        "test(list(chunked('abcd', 2)),\n",
        "     [('a','b'), ('c','d')])\n",
        "test(list(chunked('abcdefg', 3, 'x')),\n",
        "     [('a','b','c'), ('d','e','f'), ('g','x','x')])\n",
        "test(take(chunked(count(), 3), 2), \n",
        "     [(0, 1, 2), (3, 4, 5)])\n",
        "test(list(chunked(iter('abcde'), 2)),\n",
        "     [('a','b'), ('c','d'), ('e', None)])"
      ],
      "execution_count":12,
      "outputs":[
        {
          "name":"stdout",
          "text":[
            " OK \n",
            " OK \n",
            " OK \n",
            " OK \n"
          ],
          "output_type":"stream"
        }
      ],
      "metadata":{
        "datalore":{
          "sheet_delimiter":false
        }
      }
    }
  ],
  "metadata":{
    
  },
  "nbformat":4,
  "nbformat_minor":0
}