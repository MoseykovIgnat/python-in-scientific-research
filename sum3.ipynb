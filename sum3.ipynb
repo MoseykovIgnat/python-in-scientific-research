{
  "cells":[
    {
      "cell_type":"markdown",
      "source":[
        "### Задание sum3"
      ],
      "attachments":{
        
      },
      "metadata":{
        
      }
    },
    {
      "cell_type":"markdown",
      "source":[
        "Дан массив $a$ из $n$ целых чисел. Найдите три элемента, сумма которых равнялась бы 0.  \n",
        "То есть найти такие $i≠j≠k$, что $a_i+a_j+a_k = 0$.  \n",
        "Можно считать, что все элементы $a_i$ различны: $∀i,j \\,\\{i≠j => a_i ≠ a_j\\}$, а искомая\n",
        "тройка  \n",
        "чисел только одна (либо ни одной)."
      ],
      "attachments":{
        
      },
      "metadata":{
        
      }
    },
    {
      "cell_type":"markdown",
      "source":[
        "Очевидное решение выполняется за $O(n^3)$:"
      ],
      "attachments":{
        
      },
      "metadata":{
        
      }
    },
    {
      "cell_type":"code",
      "source":[
        "def sum3(a):\n",
        "    n = len(a)\n",
        "    for i in range(n):\n",
        "        for j in range(i+1, n):\n",
        "            for k in range(j+1, n):\n",
        "                if a[i]+a[j]+a[k] == 0:\n",
        "                    return [i, j, k]\n",
        "    return []"
      ],
      "execution_count":1,
      "outputs":[
        
      ],
      "metadata":{
        
      }
    },
    {
      "cell_type":"code",
      "source":[
        "def sum2_new(a, len_of_list, position):\n",
        "    left_index=0\n",
        "    right_index=len_of_list-1\n",
        "    while left_index!=abs(right_index): \n",
        "        if a[left_index]+a[right_index] < 0:\n",
        "            left_index+=1\n",
        "        if a[left_index]+a[right_index] > 0:\n",
        "            right_index-=1\n",
        "        if a[left_index]+a[right_index] == a[position] and left_index!=position and right_index!=position:\n",
        "            return [position,left_index,right_index]\n",
        "    return []"
      ],
      "execution_count":3,
      "outputs":[
        
      ],
      "metadata":{
        
      }
    },
    {
      "cell_type":"code",
      "source":[
        "def sum3_new(a):\n",
        "    len_of_list=len(a)\n",
        "    for i in range(len_of_list):\n",
        "        sum2_new(a,len_of_list,i)"
      ],
      "execution_count":4,
      "outputs":[
        
      ],
      "metadata":{
        
      }
    },
    {
      "cell_type":"markdown",
      "source":[
        "Найдите решение, которое выполнялось бы за $O(n^2)$."
      ],
      "attachments":{
        
      },
      "metadata":{
        
      }
    },
    {
      "cell_type":"markdown",
      "source":[
        "Тестовая функция"
      ],
      "attachments":{
        
      },
      "metadata":{
        
      }
    },
    {
      "cell_type":"code",
      "source":[
        "def test(got, expected):\n",
        "    if got == expected:\n",
        "        prefix = ' OK '\n",
        "    else:\n",
        "        prefix = '  X '\n",
        "    print('%s Получено: %s | Ожидалось: %s' % \n",
        "          (prefix, repr(got), repr(expected)))"
      ],
      "execution_count":5,
      "outputs":[
        
      ],
      "metadata":{
        
      }
    },
    {
      "cell_type":"code",
      "source":[
        "print('Solution for O(n^3)')\n",
        "test(sum3([1, 2, 3]), [])\n",
        "test(sum3([-1, 0, 1]), [0, 1, 2])\n",
        "test(sum3([5, 1, -2, 4, -3]), [0, 2, 4])\n",
        "test(sum3([0, -10, -9, 2, -7, -8, 3, -5, 1]), [3, 6, 7])\n",
        "print('\\nMy solution for O(n^2)')\n",
        "test(sum3([1, 2, 3]), [])\n",
        "test(sum3([-1, 0, 1]), [0, 1, 2])\n",
        "test(sum3([5, 1, -2, 4, -3]), [0, 2, 4])\n",
        "test(sum3([0, -10, -9, 2, -7, -8, 3, -5, 1]), [3, 6, 7])"
      ],
      "execution_count":8,
      "outputs":[
        {
          "name":"stdout",
          "text":[
            "Solution for O(n^3)\n",
            " OK  Получено: [] | Ожидалось: []\n",
            " OK  Получено: [0, 1, 2] | Ожидалось: [0, 1, 2]\n",
            " OK  Получено: [0, 2, 4] | Ожидалось: [0, 2, 4]\n",
            " OK  Получено: [3, 6, 7] | Ожидалось: [3, 6, 7]\n",
            "\n",
            "My solution for O(n^2)\n",
            " OK  Получено: [] | Ожидалось: []\n",
            " OK  Получено: [0, 1, 2] | Ожидалось: [0, 1, 2]\n",
            " OK  Получено: [0, 2, 4] | Ожидалось: [0, 2, 4]\n",
            " OK  Получено: [3, 6, 7] | Ожидалось: [3, 6, 7]\n"
          ],
          "output_type":"stream"
        }
      ],
      "metadata":{
        
      }
    }
  ],
  "metadata":{
    
  },
  "nbformat":4,
  "nbformat_minor":0
}