{
  "cells":[
    {
      "cell_type":"markdown",
      "source":[
        "### Задание regex1"
      ],
      "attachments":{
        
      },
      "metadata":{
        "datalore":{
          "sheet_delimiter":false
        }
      }
    },
    {
      "cell_type":"code",
      "source":[
        "import re\n",
        "def test(got, expected):\n",
        "    if got == expected:\n",
        "        prefix = ' OK '\n",
        "    else:\n",
        "        prefix = '  X '\n",
        "    print('%s got: %s expected: %s' % (prefix, repr(got), repr(expected)))"
      ],
      "execution_count":2,
      "outputs":[
        
      ],
      "metadata":{
        "datalore":{
          "sheet_delimiter":false
        }
      }
    },
    {
      "cell_type":"markdown",
      "source":[
        "**A. Апострофы**\n",
        "\n",
        "Разбейте англ. текст на слова и верните их в виде списка. Апострофы ('), являющиеся  \n",
        "частью слова, необходимо оставить, а выступающие в роли кавычек – удалить.  \n",
        "Никаких иных символов, кроме букв и апострофов, в словах быть не может."
      ],
      "attachments":{
        
      },
      "metadata":{
        "datalore":{
          "sheet_delimiter":false
        }
      }
    },
    {
      "cell_type":"code",
      "source":[
        "def apostrophe(text):\n",
        "    # return re.findall( r'[A-Za-z]+\\'*[A-Za-z]*\\'*[A-Za-z]+' ,text)\n",
        "    # return re.findall( r'[A-Za-z]+(?:\\'*[A-Za-z]+)+' ,text)\n",
        "    return re.findall( r'(?:[A-Za-z]+\\')*[A-Za-z]+' ,text)\n",
        "\n",
        "test(apostrophe(\"'It's 5 o'clock already', said he\"), \n",
        "     [\"It's\", \"o'clock\", \"already\", \"said\", \"he\"])\n",
        "test(apostrophe(\"He's bought the 'Best of rock'n'roll' album\"), \n",
        "    [\"He's\", 'bought', 'the', 'Best', 'of', \"rock'n'roll\", 'album'])\n",
        "test(apostrophe(\"I'm sure _I_ shan't be able!\"), \n",
        "    [\"I'm\", 'sure', 'I', \"shan't\", 'be', 'able'])\n",
        "test('_'.join(apostrophe(\n",
        "  \"`Perhaps it doesn't understand English,' thought Alice; `I daresay \"\n",
        "  \"it's a French mouse, come over with William the Conqueror.'\")), \n",
        "  \"Perhaps_it_doesn't_understand_English_thought_Alice_I_daresay_it's_a_\"\n",
        "  \"French_mouse_come_over_with_William_the_Conqueror\")\n"
      ],
      "execution_count":42,
      "outputs":[
        {
          "name":"stdout",
          "text":[
            " OK  got: [\"It's\", \"o'clock\", 'already', 'said', 'he'] expected: [\"It's\", \"o'clock\", 'already', 'said', 'he']\n",
            " OK  got: [\"He's\", 'bought', 'the', 'Best', 'of', \"rock'n'roll\", 'album'] expected: [\"He's\", 'bought', 'the', 'Best', 'of', \"rock'n'roll\", 'album']\n",
            " OK  got: [\"I'm\", 'sure', 'I', \"shan't\", 'be', 'able'] expected: [\"I'm\", 'sure', 'I', \"shan't\", 'be', 'able']\n",
            " OK  got: \"Perhaps_it_doesn't_understand_English_thought_Alice_I_daresay_it's_a_French_mouse_come_over_with_William_the_Conqueror\" expected: \"Perhaps_it_doesn't_understand_English_thought_Alice_I_daresay_it's_a_French_mouse_come_over_with_William_the_Conqueror\"\n"
          ],
          "output_type":"stream"
        }
      ],
      "metadata":{
        "datalore":{
          "sheet_delimiter":false
        }
      }
    },
    {
      "cell_type":"markdown",
      "source":[
        "**B. Наречия**\n",
        "\n",
        "Найдите в тексте англ слова, заканчивающиеся на `ly` и выделите их при помощи  \n",
        "тегов `<i>` и `<\/i>`, например, `'drive carefully'` -> `'drive <i>carefully<\/i>'`"
      ],
      "attachments":{
        
      },
      "metadata":{
        "datalore":{
          "sheet_delimiter":false
        }
      }
    },
    {
      "cell_type":"code",
      "source":[
        "def mark_adverbs(text):\n",
        "    return re.sub(r'([A-Za-z]+ly\\b)', r'<i>\\1<\/i>' ,text)\n",
        "\n",
        "test(mark_adverbs('Free lyrics web sites are \"completely illegal\"'),\n",
        "                  'Free lyrics web sites are \"<i>completely<\/i> illegal\"')\n",
        "test(mark_adverbs('He was replying quickly and angrily'), \n",
        "                  'He was replying <i>quickly<\/i> and <i>angrily<\/i>')\n",
        "test(mark_adverbs('He meticulously called everybody from la to ly in the phonebook'), \n",
        "                  'He <i>meticulously<\/i> called everybody from la to ly in the phonebook')\n",
        "test(mark_adverbs('A girl with curly hair walked down the curlyque road.'),\n",
        "                  'A girl with <i>curly<\/i> hair walked down the curlyque road.')"
      ],
      "execution_count":79,
      "outputs":[
        {
          "name":"stdout",
          "text":[
            " OK  got: 'Free lyrics web sites are \"<i>completely<\/i> illegal\"' expected: 'Free lyrics web sites are \"<i>completely<\/i> illegal\"'\n",
            " OK  got: 'He was replying <i>quickly<\/i> and <i>angrily<\/i>' expected: 'He was replying <i>quickly<\/i> and <i>angrily<\/i>'\n",
            " OK  got: 'He <i>meticulously<\/i> called everybody from la to ly in the phonebook' expected: 'He <i>meticulously<\/i> called everybody from la to ly in the phonebook'\n",
            " OK  got: 'A girl with <i>curly<\/i> hair walked down the curlyque road.' expected: 'A girl with <i>curly<\/i> hair walked down the curlyque road.'\n"
          ],
          "output_type":"stream"
        }
      ],
      "metadata":{
        "datalore":{
          "sheet_delimiter":false
        }
      }
    },
    {
      "cell_type":"markdown",
      "source":[
        "**C. Тройные гласные**\n",
        "\n",
        "Найдите англ. и русские слова, в которые есть три (возможно, разных) гласных подряд  \n",
        "и возвратите их в нижнем регистре в виде списка в порядке появления в тексте.  \n",
        "Гласными здесь можно считать буквы aeuioуеоаыяиюэё."
      ],
      "attachments":{
        
      },
      "metadata":{
        "datalore":{
          "sheet_delimiter":false
        }
      }
    },
    {
      "cell_type":"code",
      "source":[
        "def triple_vowels(text):\n",
        "    return [elem.lower() for elem in re.findall(r'[A-Za-zА-Яа-я]+[aeuioуеоаыяиюэё]{3}[A-Za-zА-Яа-я]*', text, re.I)]\n",
        "\n",
        "test(triple_vowels('He saw a sihlouette of a beautiful queen.'), \\\n",
        "                  ['sihlouette', 'beautiful', 'queen'])\n",
        "test(triple_vowels('The ravioli was rather DELICIOUS!!'), ['delicious'])\n",
        "test(triple_vowels(u'Жираф - животное длинношеее'), ['длинношеее'])\n",
        "test(triple_vowels(u'Бррр, хооолодно!'), ['хооолодно'])"
      ],
      "execution_count":69,
      "outputs":[
        {
          "name":"stdout",
          "text":[
            " OK  got: ['sihlouette', 'beautiful', 'queen'] expected: ['sihlouette', 'beautiful', 'queen']\n",
            " OK  got: ['delicious'] expected: ['delicious']\n",
            " OK  got: ['длинношеее'] expected: ['длинношеее']\n",
            " OK  got: ['хооолодно'] expected: ['хооолодно']\n"
          ],
          "output_type":"stream"
        }
      ],
      "metadata":{
        "datalore":{
          "sheet_delimiter":false
        }
      }
    },
    {
      "cell_type":"markdown",
      "source":[
        "**D. Двойные гласные**\n",
        "\n",
        "Найдите слова, в которые есть две одинаковые гласных подряд.\n",
        "Возвратите отсортированный список без повторов.\n",
        "\n",
        "*Подсказка: здесь может пригодиться [list comprehension](https:\/\/python-nsu.bitbucket.io\/list_comprehensions_lecture.html) или re.finditer \n",
        "([документация](https:\/\/docs.python.org\/3\/library\/re.html#re.finditer), [пример использования](https:\/\/python-nsu.bitbucket.io\/regexp_theme.html#finditer-–-когда-findall-не-справляется))*"
      ],
      "attachments":{
        
      },
      "metadata":{
        "datalore":{
          "sheet_delimiter":false
        }
      }
    },
    {
      "cell_type":"code",
      "source":[
        "def double_vowels(text):\n",
        "    return sorted(set([elem.group() for elem in re.finditer(r'[A-Za-zА-Яа-я]+([aeuioуеоаыяиюэё])\\1[A-Za-zА-Яа-я]*', text)]))\n",
        "\n",
        "test(double_vowels('А в солнечной Бразилии, Бразилии, Бразилии'),\n",
        "                  ['Бразилии'])\n",
        "test(double_vowels('В Кабардино-Балкарии валокордин из Болгарии'),\n",
        "                  ['Балкарии', 'Болгарии'])\n",
        "test(double_vowels('They found many fishhooks as they stood by the brook.'), \\\n",
        "                  ['brook', 'fishhooks', 'stood'])\n",
        "test(double_vowels('Такая стратегия не целесообразна более'), \\\n",
        "                  ['более', 'целесообразна'])"
      ],
      "execution_count":81,
      "outputs":[
        {
          "name":"stdout",
          "text":[
            " OK  got: ['Бразилии'] expected: ['Бразилии']\n",
            " OK  got: ['Балкарии', 'Болгарии'] expected: ['Балкарии', 'Болгарии']\n",
            " OK  got: ['brook', 'fishhooks', 'stood'] expected: ['brook', 'fishhooks', 'stood']\n",
            " OK  got: ['более', 'целесообразна'] expected: ['более', 'целесообразна']\n"
          ],
          "output_type":"stream"
        }
      ],
      "metadata":{
        "datalore":{
          "sheet_delimiter":false
        }
      }
    },
    {
      "cell_type":"markdown",
      "source":[
        "**E. Неплох**\n",
        "\n",
        "Дана строка. Найдите первое вхождение слов 'не' и 'плох'. Если 'плох' идет после 'не',  \n",
        "замените всю подстроку 'не'...'плох' на 'хорош'. Верните получившуюся строку.\n",
        "\n",
        "Например, not_bad('Этот ужин не так уж и плох!') вернет:\n",
        "'Этот ужин хорош!'"
      ],
      "attachments":{
        
      },
      "metadata":{
        "datalore":{
          "sheet_delimiter":false
        }
      }
    },
    {
      "cell_type":"code",
      "source":[
        "def not_bad(s):\n",
        "    return re.sub(r'\\bне\\b.*?\\bплох\\b|\\bнеплох\\b', 'хорош', s, count=1)\n",
        "\n",
        "test(not_bad('А негр был не плох'), 'А негр был хорош')\n",
        "test(not_bad('Да не просто не плох, а совсем не плох'), 'Да хорош, а совсем не плох') \n",
        "    # подсказки: аргумент count = количество;\n",
        "    # если к * добавить ?, это будет означать >=0, но как можно меньше, т.н. nongreedy \n",
        "\n",
        "test(not_bad('Да нет, он был совершенно не плох'), 'Да нет, он был совершенно хорош')\n",
        "test(not_bad('Неплохо, совсем не плохо'), 'Неплохо, совсем не плохо')\n",
        "test(not_bad('Не очень-то он и сплоховал'), 'Не очень-то он и сплоховал')\n",
        "test(not_bad('В стране уголь был, но он был плох'), 'В стране уголь был, но он был плох')\n",
        "test(not_bad('Аргумент неплох, да, совсем не плохой аргумент'), \n",
        "             'Аргумент хорош, да, совсем не плохой аргумент')"
      ],
      "execution_count":82,
      "outputs":[
        {
          "name":"stdout",
          "text":[
            " OK  got: 'А негр был хорош' expected: 'А негр был хорош'\n",
            " OK  got: 'Да хорош, а совсем не плох' expected: 'Да хорош, а совсем не плох'\n",
            " OK  got: 'Да нет, он был совершенно хорош' expected: 'Да нет, он был совершенно хорош'\n",
            " OK  got: 'Неплохо, совсем не плохо' expected: 'Неплохо, совсем не плохо'\n",
            " OK  got: 'Не очень-то он и сплоховал' expected: 'Не очень-то он и сплоховал'\n",
            " OK  got: 'В стране уголь был, но он был плох' expected: 'В стране уголь был, но он был плох'\n",
            " OK  got: 'Аргумент хорош, да, совсем не плохой аргумент' expected: 'Аргумент хорош, да, совсем не плохой аргумент'\n"
          ],
          "output_type":"stream"
        }
      ],
      "metadata":{
        "datalore":{
          "sheet_delimiter":false
        }
      }
    }
  ],
  "metadata":{
    
  },
  "nbformat":4,
  "nbformat_minor":0
}