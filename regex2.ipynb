{
  "cells":[
    {
      "cell_type":"markdown",
      "source":[
        "### Задание regex2"
      ],
      "attachments":{
        
      },
      "metadata":{
        "datalore":{
          "sheet_delimiter":false
        }
      }
    },
    {
      "cell_type":"code",
      "source":[
        "import re\n",
        "\n",
        "def test(got, expected):\n",
        "    if got == expected:\n",
        "        prefix = ' OK '\n",
        "    else:\n",
        "        prefix = '  X '\n",
        "    print('%s got: %s expected: %s' % (prefix, repr(got), repr(expected)))"
      ],
      "execution_count":2,
      "outputs":[
        
      ],
      "metadata":{
        "datalore":{
          "sheet_delimiter":false
        }
      }
    },
    {
      "cell_type":"markdown",
      "source":[
        "**F. Буква Ё**\n",
        "\n",
        "Найдите в тексте слова, содержащие букву ё, и верните список кортежей \n",
        "вида (индекс первой буквы слова, длина слова).\n",
        "\n",
        "*Подсказка: здесь надо использовать `re.finditer` ([документация](https:\/\/docs.python.org\/3\/library\/re.html#re.finditer), [пример использования](https:\/\/python-nsu.bitbucket.io\/regexp_theme.html#finditer-–-когда-findall-не-справляется))*"
      ],
      "attachments":{
        
      },
      "metadata":{
        "datalore":{
          "sheet_delimiter":false
        }
      }
    },
    {
      "cell_type":"code",
      "source":[
        "def yo(text):\n",
        "    return [(i.span()[0], i.span()[1] -i.span()[0]) for i in re.finditer(r'[А-Яа-яё]*ё[А-Яа-яё]*', text, re.I)]\n",
        "#     return [(elem.span()[0], elem.span()[1] - elem.span()[0]) for elem in re.finditer(r'\\b[А-Яа-я]*ё[А-Яа-я]*\\b', text)]\n",
        "\n",
        "test(yo(''), [])\n",
        "test(yo('Ёж'), [(0, 2)])\n",
        "test(yo('Четвёртый полёт ещё не завершён.'), \n",
        "        [(0, 9), (10, 5), (16, 3), (23, 8)])\n",
        "test(yo('Президент Ниинистё живёт в районе Тёёлё в Хельсинки.'), \n",
        "        [(10, 8), (19, 5), (34, 5)])"
      ],
      "execution_count":3,
      "outputs":[
        {
          "name":"stdout",
          "text":[
            " OK  got: [] expected: []\n",
            " OK  got: [(0, 2)] expected: [(0, 2)]\n",
            " OK  got: [(0, 9), (10, 5), (16, 3), (23, 8)] expected: [(0, 9), (10, 5), (16, 3), (23, 8)]\n",
            " OK  got: [(10, 8), (19, 5), (34, 5)] expected: [(10, 8), (19, 5), (34, 5)]\n"
          ],
          "output_type":"stream"
        }
      ],
      "metadata":{
        "datalore":{
          "sheet_delimiter":false
        }
      }
    },
    {
      "cell_type":"markdown",
      "source":[
        "**G. Курсив**\n",
        "\n",
        "Найдите прочерки, использующиеся для выделения текста вместо курсива, и «перевыделите»  \n",
        "такой текст при помощи html-тегов `<i>` и `<\/i>`.\n",
        "\n",
        "Например `'I _am_ sure.'` -> `'I <i>am<\/i> sure.'`"
      ],
      "attachments":{
        
      },
      "metadata":{
        "datalore":{
          "sheet_delimiter":false
        }
      }
    },
    {
      "cell_type":"code",
      "source":[
        "def italics(text):\n",
        "    return re.sub(r'_([A-Za-zА-Яа-я]+(?:\\s[A-Za-zА-Яа-я]*)*)_', r'<i>\\1<\/i>', text)\n",
        "\n",
        "test(italics('That was _awfully_ helpful.'),\n",
        "             'That was <i>awfully<\/i> helpful.')\n",
        "test(italics('And when _he_ says so, he _means_ it'),\n",
        "             'And when <i>he<\/i> says so, he <i>means<\/i> it')\n",
        "test(italics('And when _he_ says so, he _means_ it'),\n",
        "             'And when <i>he<\/i> says so, he <i>means<\/i> it')\n",
        "test(italics('That was a _really long_ day.'),\n",
        "             'That was a <i>really long<\/i> day.')\n",
        "test(italics('Анна Павловна кашляла несколько дней, у нее был '\n",
        "    '_грипп_, как она говорила (_грипп_ был тогда новое слово, '\n",
        "    'употреблявшееся только редкими)'),\n",
        "             'Анна Павловна кашляла несколько дней, у нее был '\n",
        "    '<i>грипп<\/i>, как она говорила (<i>грипп<\/i> был тогда новое слово, '\n",
        "    'употреблявшееся только редкими)')\n",
        "test(italics('dan_brown@mail.ru – мой _основной_ email!'),\n",
        "             'dan_brown@mail.ru – мой <i>основной<\/i> email!'),"
      ],
      "execution_count":4,
      "outputs":[
        {
          "name":"stdout",
          "text":[
            " OK  got: 'That was <i>awfully<\/i> helpful.' expected: 'That was <i>awfully<\/i> helpful.'\n",
            " OK  got: 'And when <i>he<\/i> says so, he <i>means<\/i> it' expected: 'And when <i>he<\/i> says so, he <i>means<\/i> it'\n",
            " OK  got: 'And when <i>he<\/i> says so, he <i>means<\/i> it' expected: 'And when <i>he<\/i> says so, he <i>means<\/i> it'\n",
            " OK  got: 'That was a <i>really long<\/i> day.' expected: 'That was a <i>really long<\/i> day.'\n",
            " OK  got: 'Анна Павловна кашляла несколько дней, у нее был <i>грипп<\/i>, как она говорила (<i>грипп<\/i> был тогда новое слово, употреблявшееся только редкими)' expected: 'Анна Павловна кашляла несколько дней, у нее был <i>грипп<\/i>, как она говорила (<i>грипп<\/i> был тогда новое слово, употреблявшееся только редкими)'\n",
            " OK  got: 'dan_brown@mail.ru – мой <i>основной<\/i> email!' expected: 'dan_brown@mail.ru – мой <i>основной<\/i> email!'\n"
          ],
          "output_type":"stream"
        },
        {
          "data":{
            "text\/plain":[
              "(None,)"
            ]
          },
          "metadata":{
            
          },
          "output_type":"display_data"
        }
      ],
      "metadata":{
        "datalore":{
          "sheet_delimiter":false
        }
      }
    },
    {
      "cell_type":"markdown",
      "source":[
        "**H. Пароль**\n",
        "\n",
        "Дан пароль. Проверьте его «сложность». Для этого нужно подсчитать количество:  \n",
        "  – строчных букв,  \n",
        "  – заглавных букв,  \n",
        "  – цифр,  \n",
        "  – знаков препинания – то есть символов с кодами от `\\x21`(восклицательный знак) до `\\x7e` (тильда), кроме букв и цифр, а также  \n",
        "  – допустимость, то есть отсутствие символов с кодом меньше `0x21`() и больше `0x7e`(тильда).  \n",
        "  \n",
        "Вернуть нужно tuple из 4 чисел и одного bool.\n",
        "\n",
        "*Подсказка: в качестве границ диапазона можно указывать как сами символы `[!-~]`, так и их коды `[\\x21-\\07e]`.*\n",
        "![image.png](attachment:.\/image.png)"
      ],
      "attachments":{
        ".\/image.png":{
          "image\/png":"[encoded data removed]"
        }
      },
      "metadata":{
        "datalore":{
          "sheet_delimiter":false
        }
      }
    },
    {
      "cell_type":"code",
      "source":[
        "def strength(password):\n",
        "    len_lower = len(re.findall(r'[a-z]', password))\n",
        "    len_capital = len(re.findall(r'[A-Z]', password))\n",
        "    len_numbers = len(re.findall(r'\\d', password))\n",
        "    len_punctuation = len(re.findall(r'[^\\w\\d]', password))\n",
        "    len_admissibility = not bool(re.findall(r'[^\\x20-\\x7E]', password))\n",
        "    return (len_lower,len_capital,len_numbers,\n",
        "            len_punctuation,len_admissibility)\n",
        "test(strength('qwerty'), (6, 0, 0, 0, True))\n",
        "test(strength('Qwerty123!'), (5, 1, 3, 1, True))\n",
        "test(strength('Пароль7'), (0, 0, 1, 0, False))"
      ],
      "execution_count":5,
      "outputs":[
        {
          "name":"stdout",
          "text":[
            " OK  got: (6, 0, 0, 0, True) expected: (6, 0, 0, 0, True)\n",
            " OK  got: (5, 1, 3, 1, True) expected: (5, 1, 3, 1, True)\n",
            " OK  got: (0, 0, 1, 0, False) expected: (0, 0, 1, 0, False)\n"
          ],
          "output_type":"stream"
        }
      ],
      "metadata":{
        "datalore":{
          "sheet_delimiter":false
        }
      }
    },
    {
      "cell_type":"markdown",
      "source":[
        "**I. Гиперссылки**\n",
        "\n",
        "Преобразуйте найденные в строке ссылки в формате MarkDown в формат html, например,   \n",
        "`[НГУ](http:\/\/nsu.ru)` → `<a href=\"http:\/\/nsu.ru\">НГУ<\/a>`"
      ],
      "attachments":{
        
      },
      "metadata":{
        "datalore":{
          "sheet_delimiter":false
        }
      }
    },
    {
      "cell_type":"code",
      "source":[
        "def markdown(string):\n",
        "    #return re.sub(r'(\\[(.*?)\\])(\\(([\\w:\/.]+)\\))', r'<a href=\"\\4\">\\2<\/a>', string)  \n",
        "    return re.sub(r'(\\[([^]]+)\\])(\\(([\\w:\/.]+)\\))', r'<a href=\"\\4\">\\2<\/a>', string)\n",
        "\n",
        "\n",
        "test(markdown('[Google](http:\/\/google.com)'), \n",
        "              '<a href=\"http:\/\/google.com\">Google<\/a>')\n",
        "test(markdown('[1][Google – поиск №1](http:\/\/google.com)'), \n",
        "              '[1]<a href=\"http:\/\/google.com\">Google – поиск №1<\/a>')\n",
        "test(markdown('[Google](http:\/\/google.com)(2)'), \n",
        "              '<a href=\"http:\/\/google.com\">Google<\/a>(2)')\n",
        "test(markdown('[Яндекс!](http:\/\/ya.ru) и [百度](http:\/\/baidu.com)'), \n",
        "              '<a href=\"http:\/\/ya.ru\">Яндекс!<\/a> и <a href=\"http:\/\/baidu.com\">百度<\/a>')"
      ],
      "execution_count":102,
      "outputs":[
        {
          "name":"stdout",
          "text":[
            " OK  got: '<a href=\"http:\/\/google.com\">Google<\/a>' expected: '<a href=\"http:\/\/google.com\">Google<\/a>'\n",
            " OK  got: '[1]<a href=\"http:\/\/google.com\">Google – поиск №1<\/a>' expected: '[1]<a href=\"http:\/\/google.com\">Google – поиск №1<\/a>'\n",
            " OK  got: '<a href=\"http:\/\/google.com\">Google<\/a>(2)' expected: '<a href=\"http:\/\/google.com\">Google<\/a>(2)'\n",
            " OK  got: '<a href=\"http:\/\/ya.ru\">Яндекс!<\/a> и <a href=\"http:\/\/baidu.com\">百度<\/a>' expected: '<a href=\"http:\/\/ya.ru\">Яндекс!<\/a> и <a href=\"http:\/\/baidu.com\">百度<\/a>'\n"
          ],
          "output_type":"stream"
        }
      ],
      "metadata":{
        "datalore":{
          "sheet_delimiter":false
        }
      }
    },
    {
      "cell_type":"markdown",
      "source":[
        "**J. Неисполняемые файлы**\n",
        "\n",
        "Одним регулярным выражением выделите из списка файлов все, кроме исполняемых  \n",
        "(то есть .exe и .bat). Whitespace (то есть пробелов, табуляций и переводов строк)  \n",
        "в именах файлов содержаться не может. Имена файлов разделены whitespace'ом.\n",
        "\n",
        "*Подсказка: здесь нужно использовать look-behind ([примеры использования](https:\/\/python-nsu.bitbucket.io\/lookaheads_and_lookbehinds.html))*"
      ],
      "attachments":{
        
      },
      "metadata":{
        "datalore":{
          "sheet_delimiter":false
        }
      }
    },
    {
      "cell_type":"code",
      "source":[
        "def non_executable(text):\n",
        "    return re.findall(r'\\S+(?<!\\.bat|\\.exe)(?=\\s|$)', text)\n",
        "\n",
        "test(non_executable('1.txt dir1 virus.exe 2017-01-02.log'),\n",
        "     ['1.txt', 'dir1', '2017-01-02.log'])\n",
        "test(non_executable('kill_them_all.bat report.doc virus.exe.zip'), \n",
        "     ['report.doc', 'virus.exe.zip'])"
      ],
      "execution_count":7,
      "outputs":[
        {
          "name":"stdout",
          "text":[
            " OK  got: ['1.txt', 'dir1', '2017-01-02.log'] expected: ['1.txt', 'dir1', '2017-01-02.log']\n",
            " OK  got: ['report.doc', 'virus.exe.zip'] expected: ['report.doc', 'virus.exe.zip']\n"
          ],
          "output_type":"stream"
        }
      ],
      "metadata":{
        "datalore":{
          "sheet_delimiter":false
        }
      }
    }
  ],
  "metadata":{
    
  },
  "nbformat":4,
  "nbformat_minor":0
}