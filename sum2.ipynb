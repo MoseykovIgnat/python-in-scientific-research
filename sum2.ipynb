{
  "cells":[
    {
      "cell_type":"markdown",
      "source":[
        "### Задание sum2"
      ],
      "attachments":{
        
      },
      "metadata":{
        
      }
    },
    {
      "cell_type":"markdown",
      "source":[
        "Дан отсортированный массив $a$ из $n$ целых чисел. Найдите два элемента, сумма которых равнялась бы 0.  \n",
        "То есть найти такие $i≠j$, что $a_i+a_j = 0$.  \n",
        "Можно считать, что все элементы $a_i$ различны: $∀i,j \\,\\{i≠j => a_i ≠ a_j\\}$, а искомая\n",
        "пара  \n",
        "чисел только одна (либо ни одной)."
      ],
      "attachments":{
        
      },
      "metadata":{
        
      }
    },
    {
      "cell_type":"markdown",
      "source":[
        "Очевидное решение выполняется за $O(n^2)$:"
      ],
      "attachments":{
        
      },
      "metadata":{
        
      }
    },
    {
      "cell_type":"code",
      "source":[
        "def sum2_old(a):\n",
        "    n = len(a)\n",
        "    for i in range(n):\n",
        "        for j in range(i+1, n):\n",
        "            if a[i]+a[j] == 0:\n",
        "                return [i, j]\n",
        "    return []"
      ],
      "execution_count":60,
      "outputs":[
        
      ],
      "metadata":{
        
      }
    },
    {
      "cell_type":"markdown",
      "source":[
        "Найдите решение, которое выполнялось бы за $O(n)$."
      ],
      "attachments":{
        
      },
      "metadata":{
        
      }
    },
    {
      "cell_type":"code",
      "source":[
        "def sum2_new(a):\n",
        "    n=len(a)\n",
        "    left_index=0\n",
        "    right_index=n-1\n",
        "    while left_index!=abs(right_index): \n",
        "        if a[left_index]+a[right_index] < 0:\n",
        "            left_index+=1\n",
        "        if a[left_index]+a[right_index] > 0:\n",
        "            right_index-=1\n",
        "        if a[left_index]+a[right_index] == 0:\n",
        "            return [left_index,right_index]\n",
        "    return []"
      ],
      "execution_count":61,
      "outputs":[
        
      ],
      "metadata":{
        
      }
    },
    {
      "cell_type":"code",
      "source":[
        "a=[1, 2, 3]\n",
        "print(sum2_old(a))\n",
        "print(sum2_new(a))\n",
        "\n",
        "\n"
      ],
      "execution_count":62,
      "outputs":[
        {
          "name":"stdout",
          "text":[
            "[]\n",
            "[]\n"
          ],
          "output_type":"stream"
        }
      ],
      "metadata":{
        
      }
    },
    {
      "cell_type":"markdown",
      "source":[
        "Тестовая функция"
      ],
      "attachments":{
        
      },
      "metadata":{
        
      }
    },
    {
      "cell_type":"code",
      "source":[
        "def test(got, expected):\n",
        "    if got == expected:\n",
        "        prefix = ' OK '\n",
        "    else:\n",
        "        prefix = '  X '\n",
        "    print('%s Получено: %s | Ожидалось: %s' % \n",
        "          (prefix, repr(got), repr(expected)))"
      ],
      "execution_count":63,
      "outputs":[
        
      ],
      "metadata":{
        
      }
    },
    {
      "cell_type":"code",
      "source":[
        "test(sum2_new([1, 2, 3]), [])\n",
        "test(sum2_new([-1, 0, 1]), [0, 2])\n",
        "test(sum2_new([-4, -2, 1, 2, 3, 5]), [1, 3])"
      ],
      "execution_count":64,
      "outputs":[
        {
          "name":"stdout",
          "text":[
            " OK  Получено: [] | Ожидалось: []\n",
            " OK  Получено: [0, 2] | Ожидалось: [0, 2]\n",
            " OK  Получено: [1, 3] | Ожидалось: [1, 3]\n"
          ],
          "output_type":"stream"
        }
      ],
      "metadata":{
        
      }
    }
  ],
  "metadata":{
    
  },
  "nbformat":4,
  "nbformat_minor":0
}