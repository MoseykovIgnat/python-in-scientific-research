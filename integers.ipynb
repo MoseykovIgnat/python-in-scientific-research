{
  "cells":[
    {
      "cell_type":"markdown",
      "source":[
        "### Задание integers"
      ],
      "attachments":{
        
      },
      "metadata":{
        "datalore":{
          "sheet_delimiter":false
        }
      }
    },
    {
      "cell_type":"code",
      "source":[
        "import re\n",
        "\n",
        "def test(got, expected):\n",
        "    print(f\" {'OK' if got==expected else ' X'} got: {got} expected: {expected}\")"
      ],
      "execution_count":2,
      "outputs":[
        
      ],
      "metadata":{
        "datalore":{
          "sheet_delimiter":false
        }
      }
    },
    {
      "cell_type":"markdown",
      "source":[
        "**A. Simple integers**\n",
        "\n",
        "Найдите в строке целые числа. Они отделены от остального текста пробелами."
      ],
      "attachments":{
        
      },
      "metadata":{
        "datalore":{
          "sheet_delimiter":false
        }
      }
    },
    {
      "cell_type":"code",
      "source":[
        "def simple_integers(s):\n",
        "    return re.findall(r'[+-]?(?<!\\.)\\b[0-9]+\\b(?!\\.[0-9])', s)\n",
        "test(simple_integers(''), [])\n",
        "test(simple_integers('1'), ['1'])\n",
        "test(simple_integers('42 36.6° 2021 год 123.45 0 r21 -10 .45 0.2 +5 100'), \n",
        "                    ['42', '2021', '0', '-10', '+5', '100'])"
      ],
      "execution_count":44,
      "outputs":[
        {
          "name":"stdout",
          "text":[
            " OK got: [] expected: []\n",
            " OK got: ['1'] expected: ['1']\n",
            " OK got: ['42', '2021', '0', '-10', '+5', '100'] expected: ['42', '2021', '0', '-10', '+5', '100']\n"
          ],
          "output_type":"stream"
        }
      ],
      "metadata":{
        "datalore":{
          "sheet_delimiter":false
        }
      }
    },
    {
      "cell_type":"markdown",
      "source":[
        "**B. Better integers**\n",
        "\n",
        "Найдите в строке целые числа. Они могут входить в состав математического выражения."
      ],
      "attachments":{
        
      },
      "metadata":{
        "datalore":{
          "sheet_delimiter":false
        }
      }
    },
    {
      "cell_type":"markdown",
      "source":[
        "NB Регулярное выражение выражает понятие числа. Оно не должно зависеть от того, что находится вокруг. То есть в нём не должно быть математических операторов (в отличие от simple_integers - даже унарных)."
      ],
      "attachments":{
        
      },
      "metadata":{
        "datalore":{
          "sheet_delimiter":false
        }
      }
    },
    {
      "cell_type":"code",
      "source":[
        "def better_integers(s):\n",
        "    return re.findall(r'(?<!\\.)\\b[0-9]+\\b(?!\\.[0-9])', s)\n",
        "test(better_integers('2-3 (12*x1+4.5)**0.5-(cell67\/89)%41 -7*abs(5) -.1 12'),\n",
        "                     ['2', '3', '12', '89', '41', '7', '5', '12'])"
      ],
      "execution_count":34,
      "outputs":[
        {
          "name":"stdout",
          "text":[
            " OK got: ['2', '3', '12', '89', '41', '7', '5', '12'] expected: ['2', '3', '12', '89', '41', '7', '5', '12']\n"
          ],
          "output_type":"stream"
        }
      ],
      "metadata":{
        "datalore":{
          "sheet_delimiter":false
        }
      }
    }
  ],
  "metadata":{
    
  },
  "nbformat":4,
  "nbformat_minor":0
}