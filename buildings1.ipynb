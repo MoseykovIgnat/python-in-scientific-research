{
  "cells":[
    {
      "cell_type":"markdown",
      "source":[
        "### Задание buildings1"
      ],
      "attachments":{
        
      },
      "metadata":{
        "datalore":{
          "sheet_delimiter":false
        }
      }
    },
    {
      "cell_type":"code",
      "source":[
        "from random import randint"
      ],
      "execution_count":131,
      "outputs":[
        
      ],
      "metadata":{
        "datalore":{
          "sheet_delimiter":false
        }
      }
    },
    {
      "cell_type":"markdown",
      "source":[
        "Инициализация библиотеки bokeh для визуализации (для установки `pip install bokeh`,  \n",
        "либо `conda install bokeh`, либо через Пуск\/Anaconda Navigator):"
      ],
      "attachments":{
        
      },
      "metadata":{
        "datalore":{
          "sheet_delimiter":false
        }
      }
    },
    {
      "cell_type":"code",
      "source":[
        "from bokeh.io import output_notebook, push_notebook\n",
        "import bokeh.plotting\n",
        "output_notebook()"
      ],
      "execution_count":132,
      "outputs":[
        {
          "data":{
            "text\/html":[
              "<script>\n",
              "(function(root) {\n",
              "  function now() {\n",
              "    return new Date();\n",
              "  }\n",
              "\n",
              "  var force = true;\n",
              "\n",
              "  if (typeof root._bokeh_onload_callbacks === \"undefined\" || force === true) {\n",
              "    root._bokeh_onload_callbacks = [];\n",
              "    root._bokeh_is_loading = undefined;\n",
              "  }\n",
              "\n",
              "  var JS_MIME_TYPE = 'application\/javascript';\n",
              "  var HTML_MIME_TYPE = 'text\/html';\n",
              "  var EXEC_MIME_TYPE = 'application\/vnd.bokehjs_exec.v0+json';\n",
              "  var CLASS_NAME = 'output_bokeh rendered_html';\n",
              "\n",
              "  \/**\n",
              "   * Render data to the DOM node\n",
              "   *\/\n",
              "  function render(props, node) {\n",
              "    var script = document.createElement(\"script\");\n",
              "    node.appendChild(script);\n",
              "  }\n",
              "\n",
              "  \/**\n",
              "   * Handle when an output is cleared or removed\n",
              "   *\/\n",
              "  function handleClearOutput(event, handle) {\n",
              "    var cell = handle.cell;\n",
              "\n",
              "    var id = cell.output_area._bokeh_element_id;\n",
              "    var server_id = cell.output_area._bokeh_server_id;\n",
              "    \/\/ Clean up Bokeh references\n",
              "    if (id != null && id in Bokeh.index) {\n",
              "      Bokeh.index[id].model.document.clear();\n",
              "      delete Bokeh.index[id];\n",
              "    }\n",
              "\n",
              "    if (server_id !== undefined) {\n",
              "      \/\/ Clean up Bokeh references\n",
              "      var cmd = \"from bokeh.io.state import curstate; print(curstate().uuid_to_server['\" + server_id + \"'].get_sessions()[0].document.roots[0]._id)\";\n",
              "      cell.notebook.kernel.execute(cmd, {\n",
              "        iopub: {\n",
              "          output: function(msg) {\n",
              "            var id = msg.content.text.trim();\n",
              "            if (id in Bokeh.index) {\n",
              "              Bokeh.index[id].model.document.clear();\n",
              "              delete Bokeh.index[id];\n",
              "            }\n",
              "          }\n",
              "        }\n",
              "      });\n",
              "      \/\/ Destroy server and session\n",
              "      var cmd = \"import bokeh.io.notebook as ion; ion.destroy_server('\" + server_id + \"')\";\n",
              "      cell.notebook.kernel.execute(cmd);\n",
              "    }\n",
              "  }\n",
              "\n",
              "  \/**\n",
              "   * Handle when a new output is added\n",
              "   *\/\n",
              "  function handleAddOutput(event, handle) {\n",
              "    var output_area = handle.output_area;\n",
              "    var output = handle.output;\n",
              "\n",
              "    \/\/ limit handleAddOutput to display_data with EXEC_MIME_TYPE content only\n",
              "    if ((output.output_type != \"display_data\") || (!Object.prototype.hasOwnProperty.call(output.data, EXEC_MIME_TYPE))) {\n",
              "      return\n",
              "    }\n",
              "\n",
              "    var toinsert = output_area.element.find(\".\" + CLASS_NAME.split(' ')[0]);\n",
              "\n",
              "    if (output.metadata[EXEC_MIME_TYPE][\"id\"] !== undefined) {\n",
              "      toinsert[toinsert.length - 1].firstChild.textContent = output.data[JS_MIME_TYPE];\n",
              "      \/\/ store reference to embed id on output_area\n",
              "      output_area._bokeh_element_id = output.metadata[EXEC_MIME_TYPE][\"id\"];\n",
              "    }\n",
              "    if (output.metadata[EXEC_MIME_TYPE][\"server_id\"] !== undefined) {\n",
              "      var bk_div = document.createElement(\"div\");\n",
              "      bk_div.innerHTML = output.data[HTML_MIME_TYPE];\n",
              "      var script_attrs = bk_div.children[0].attributes;\n",
              "      for (var i = 0; i < script_attrs.length; i++) {\n",
              "        toinsert[toinsert.length - 1].firstChild.setAttribute(script_attrs[i].name, script_attrs[i].value);\n",
              "        toinsert[toinsert.length - 1].firstChild.textContent = bk_div.children[0].textContent\n",
              "      }\n",
              "      \/\/ store reference to server id on output_area\n",
              "      output_area._bokeh_server_id = output.metadata[EXEC_MIME_TYPE][\"server_id\"];\n",
              "    }\n",
              "  }\n",
              "\n",
              "  function register_renderer(events, OutputArea) {\n",
              "\n",
              "    function append_mime(data, metadata, element) {\n",
              "      \/\/ create a DOM node to render to\n",
              "      var toinsert = this.create_output_subarea(\n",
              "        metadata,\n",
              "        CLASS_NAME,\n",
              "        EXEC_MIME_TYPE\n",
              "      );\n",
              "      this.keyboard_manager.register_events(toinsert);\n",
              "      \/\/ Render to node\n",
              "      var props = {data: data, metadata: metadata[EXEC_MIME_TYPE]};\n",
              "      render(props, toinsert[toinsert.length - 1]);\n",
              "      element.append(toinsert);\n",
              "      return toinsert\n",
              "    }\n",
              "\n",
              "    \/* Handle when an output is cleared or removed *\/\n",
              "    events.on('clear_output.CodeCell', handleClearOutput);\n",
              "    events.on('delete.Cell', handleClearOutput);\n",
              "\n",
              "    \/* Handle when a new output is added *\/\n",
              "    events.on('output_added.OutputArea', handleAddOutput);\n",
              "\n",
              "    \/**\n",
              "     * Register the mime type and append_mime function with output_area\n",
              "     *\/\n",
              "    OutputArea.prototype.register_mime_type(EXEC_MIME_TYPE, append_mime, {\n",
              "      \/* Is output safe? *\/\n",
              "      safe: true,\n",
              "      \/* Index of renderer in `output_area.display_order` *\/\n",
              "      index: 0\n",
              "    });\n",
              "  }\n",
              "\n",
              "  \/\/ register the mime type if in Jupyter Notebook environment and previously unregistered\n",
              "  if (root.Jupyter !== undefined) {\n",
              "    var events = require('base\/js\/events');\n",
              "    var OutputArea = require('notebook\/js\/outputarea').OutputArea;\n",
              "\n",
              "    if (OutputArea.prototype.mime_types().indexOf(EXEC_MIME_TYPE) == -1) {\n",
              "      register_renderer(events, OutputArea);\n",
              "    }\n",
              "  }\n",
              "\n",
              "  \n",
              "  if (typeof (root._bokeh_timeout) === \"undefined\" || force === true) {\n",
              "    root._bokeh_timeout = Date.now() + 5000;\n",
              "    root._bokeh_failed_load = false;\n",
              "  }\n",
              "\n",
              "  var NB_LOAD_WARNING = {'data': {'text\/html':\n",
              "     \"<div style='background-color: #fdd'>\\n\"+\n",
              "     \"<p>\\n\"+\n",
              "     \"BokehJS does not appear to have successfully loaded. If loading BokehJS from CDN, this \\n\"+\n",
              "     \"may be due to a slow or bad network connection. Possible fixes:\\n\"+\n",
              "     \"<\/p>\\n\"+\n",
              "     \"<ul>\\n\"+\n",
              "     \"<li>re-rerun `output_notebook()` to attempt to load from CDN again, or<\/li>\\n\"+\n",
              "     \"<li>use INLINE resources instead, as so:<\/li>\\n\"+\n",
              "     \"<\/ul>\\n\"+\n",
              "     \"<code>\\n\"+\n",
              "     \"from bokeh.resources import INLINE\\n\"+\n",
              "     \"output_notebook(resources=INLINE)\\n\"+\n",
              "     \"<\/code>\\n\"+\n",
              "     \"<\/div>\"}};\n",
              "\n",
              "  function display_loaded() {\n",
              "    var el = document.getElementById(\"12662\");\n",
              "    if (el != null) {\n",
              "      el.textContent = \"BokehJS is loading...\";\n",
              "    }\n",
              "    if (root.Bokeh !== undefined) {\n",
              "      if (el != null) {\n",
              "        el.textContent = \"BokehJS \" + root.Bokeh.version + \" successfully loaded.\";\n",
              "      }\n",
              "    } else if (Date.now() < root._bokeh_timeout) {\n",
              "      setTimeout(display_loaded, 100)\n",
              "    }\n",
              "  }\n",
              "\n",
              "\n",
              "  function run_callbacks() {\n",
              "    try {\n",
              "      root._bokeh_onload_callbacks.forEach(function(callback) {\n",
              "        if (callback != null)\n",
              "          callback();\n",
              "      });\n",
              "    } finally {\n",
              "      delete root._bokeh_onload_callbacks\n",
              "    }\n",
              "    console.debug(\"Bokeh: all callbacks have finished\");\n",
              "  }\n",
              "\n",
              "  function load_libs(css_urls, js_urls, callback) {\n",
              "    if (css_urls == null) css_urls = [];\n",
              "    if (js_urls == null) js_urls = [];\n",
              "\n",
              "    root._bokeh_onload_callbacks.push(callback);\n",
              "    if (root._bokeh_is_loading > 0) {\n",
              "      console.debug(\"Bokeh: BokehJS is being loaded, scheduling callback at\", now());\n",
              "      return null;\n",
              "    }\n",
              "    if (js_urls == null || js_urls.length === 0) {\n",
              "      run_callbacks();\n",
              "      return null;\n",
              "    }\n",
              "    console.debug(\"Bokeh: BokehJS not loaded, scheduling load and callback at\", now());\n",
              "    root._bokeh_is_loading = css_urls.length + js_urls.length;\n",
              "\n",
              "    function on_load() {\n",
              "      root._bokeh_is_loading--;\n",
              "      if (root._bokeh_is_loading === 0) {\n",
              "        console.debug(\"Bokeh: all BokehJS libraries\/stylesheets loaded\");\n",
              "        run_callbacks()\n",
              "      }\n",
              "    }\n",
              "\n",
              "    function on_error(url) {\n",
              "      console.error(\"failed to load \" + url);\n",
              "    }\n",
              "\n",
              "    for (let i = 0; i < css_urls.length; i++) {\n",
              "      const url = css_urls[i];\n",
              "      const element = document.createElement(\"link\");\n",
              "      element.onload = on_load;\n",
              "      element.onerror = on_error.bind(null, url);\n",
              "      element.rel = \"stylesheet\";\n",
              "      element.type = \"text\/css\";\n",
              "      element.href = url;\n",
              "      console.debug(\"Bokeh: injecting link tag for BokehJS stylesheet: \", url);\n",
              "      document.body.appendChild(element);\n",
              "    }\n",
              "\n",
              "    const hashes = {\"https:\/\/cdn.bokeh.org\/bokeh\/release\/bokeh-2.3.0.min.js\": \"HjagQp6T0\/7bxYTAXbLotF1MLAGWmhkY5siA1Gc\/pcEgvgRPtMsRn0gQtMwGKiw1\", \"https:\/\/cdn.bokeh.org\/bokeh\/release\/bokeh-widgets-2.3.0.min.js\": \"ZEPPTjL+mdyqgIq+\/pl9KTwzji8Kow2NnI3zWY8+sFinWP\/SYJ80BnfeJsa45iYj\", \"https:\/\/cdn.bokeh.org\/bokeh\/release\/bokeh-tables-2.3.0.min.js\": \"exLqv2ACDRIaV7ZK1iL8aGzGYQvKVuT3U2CT7FsQREBxRah6JrkVCoFy0koY1YqV\"};\n",
              "\n",
              "    for (let i = 0; i < js_urls.length; i++) {\n",
              "      const url = js_urls[i];\n",
              "      const element = document.createElement('script');\n",
              "      element.onload = on_load;\n",
              "      element.onerror = on_error.bind(null, url);\n",
              "      element.async = false;\n",
              "      element.src = url;\n",
              "      if (url in hashes) {\n",
              "        element.crossOrigin = \"anonymous\";\n",
              "        element.integrity = \"sha384-\" + hashes[url];\n",
              "      }\n",
              "      console.debug(\"Bokeh: injecting script tag for BokehJS library: \", url);\n",
              "      document.head.appendChild(element);\n",
              "    }\n",
              "  };\n",
              "\n",
              "  function inject_raw_css(css) {\n",
              "    const element = document.createElement(\"style\");\n",
              "    element.appendChild(document.createTextNode(css));\n",
              "    document.body.appendChild(element);\n",
              "  }\n",
              "\n",
              "  \n",
              "  var js_urls = [\"https:\/\/cdn.bokeh.org\/bokeh\/release\/bokeh-2.3.0.min.js\", \"https:\/\/cdn.bokeh.org\/bokeh\/release\/bokeh-widgets-2.3.0.min.js\", \"https:\/\/cdn.bokeh.org\/bokeh\/release\/bokeh-tables-2.3.0.min.js\"];\n",
              "  var css_urls = [];\n",
              "  \n",
              "\n",
              "  var inline_js = [\n",
              "    function(Bokeh) {\n",
              "      Bokeh.set_log_level(\"info\");\n",
              "    },\n",
              "    function(Bokeh) {\n",
              "    \n",
              "    \n",
              "    }\n",
              "  ];\n",
              "\n",
              "  function run_inline_js() {\n",
              "    \n",
              "    if (root.Bokeh !== undefined || force === true) {\n",
              "      \n",
              "    for (var i = 0; i < inline_js.length; i++) {\n",
              "      inline_js[i].call(root, root.Bokeh);\n",
              "    }\n",
              "    if (force === true) {\n",
              "        display_loaded();\n",
              "      }} else if (Date.now() < root._bokeh_timeout) {\n",
              "      setTimeout(run_inline_js, 100);\n",
              "    } else if (!root._bokeh_failed_load) {\n",
              "      console.log(\"Bokeh: BokehJS failed to load within specified timeout.\");\n",
              "      root._bokeh_failed_load = true;\n",
              "    } else if (force !== true) {\n",
              "      var cell = $(document.getElementById(\"12662\")).parents('.cell').data().cell;\n",
              "      cell.output_area.append_execute_result(NB_LOAD_WARNING)\n",
              "    }\n",
              "\n",
              "  }\n",
              "\n",
              "  if (root._bokeh_is_loading === 0) {\n",
              "    console.debug(\"Bokeh: BokehJS loaded, going straight to plotting\");\n",
              "    run_inline_js();\n",
              "  } else {\n",
              "    load_libs(css_urls, js_urls, function() {\n",
              "      console.debug(\"Bokeh: BokehJS plotting callback run at\", now());\n",
              "      run_inline_js();\n",
              "    });\n",
              "  }\n",
              "}(window));<\/script><script>\n",
              "(function(root) {\n",
              "  function now() {\n",
              "    return new Date();\n",
              "  }\n",
              "\n",
              "  var force = true;\n",
              "\n",
              "  if (typeof root._bokeh_onload_callbacks === \"undefined\" || force === true) {\n",
              "    root._bokeh_onload_callbacks = [];\n",
              "    root._bokeh_is_loading = undefined;\n",
              "  }\n",
              "\n",
              "  \n",
              "\n",
              "  \n",
              "  if (typeof (root._bokeh_timeout) === \"undefined\" || force === true) {\n",
              "    root._bokeh_timeout = Date.now() + 5000;\n",
              "    root._bokeh_failed_load = false;\n",
              "  }\n",
              "\n",
              "  var NB_LOAD_WARNING = {'data': {'text\/html':\n",
              "     \"<div style='background-color: #fdd'>\\n\"+\n",
              "     \"<p>\\n\"+\n",
              "     \"BokehJS does not appear to have successfully loaded. If loading BokehJS from CDN, this \\n\"+\n",
              "     \"may be due to a slow or bad network connection. Possible fixes:\\n\"+\n",
              "     \"<\/p>\\n\"+\n",
              "     \"<ul>\\n\"+\n",
              "     \"<li>re-rerun `output_notebook()` to attempt to load from CDN again, or<\/li>\\n\"+\n",
              "     \"<li>use INLINE resources instead, as so:<\/li>\\n\"+\n",
              "     \"<\/ul>\\n\"+\n",
              "     \"<code>\\n\"+\n",
              "     \"from bokeh.resources import INLINE\\n\"+\n",
              "     \"output_notebook(resources=INLINE)\\n\"+\n",
              "     \"<\/code>\\n\"+\n",
              "     \"<\/div>\"}};\n",
              "\n",
              "  function display_loaded() {\n",
              "    var el = document.getElementById(\"12662\");\n",
              "    if (el != null) {\n",
              "      el.textContent = \"BokehJS is loading...\";\n",
              "    }\n",
              "    if (root.Bokeh !== undefined) {\n",
              "      if (el != null) {\n",
              "        el.textContent = \"BokehJS \" + root.Bokeh.version + \" successfully loaded.\";\n",
              "      }\n",
              "    } else if (Date.now() < root._bokeh_timeout) {\n",
              "      setTimeout(display_loaded, 100)\n",
              "    }\n",
              "  }\n",
              "\n",
              "\n",
              "  function run_callbacks() {\n",
              "    try {\n",
              "      root._bokeh_onload_callbacks.forEach(function(callback) {\n",
              "        if (callback != null)\n",
              "          callback();\n",
              "      });\n",
              "    } finally {\n",
              "      delete root._bokeh_onload_callbacks\n",
              "    }\n",
              "    console.debug(\"Bokeh: all callbacks have finished\");\n",
              "  }\n",
              "\n",
              "  function load_libs(css_urls, js_urls, callback) {\n",
              "    if (css_urls == null) css_urls = [];\n",
              "    if (js_urls == null) js_urls = [];\n",
              "\n",
              "    root._bokeh_onload_callbacks.push(callback);\n",
              "    if (root._bokeh_is_loading > 0) {\n",
              "      console.debug(\"Bokeh: BokehJS is being loaded, scheduling callback at\", now());\n",
              "      return null;\n",
              "    }\n",
              "    if (js_urls == null || js_urls.length === 0) {\n",
              "      run_callbacks();\n",
              "      return null;\n",
              "    }\n",
              "    console.debug(\"Bokeh: BokehJS not loaded, scheduling load and callback at\", now());\n",
              "    root._bokeh_is_loading = css_urls.length + js_urls.length;\n",
              "\n",
              "    function on_load() {\n",
              "      root._bokeh_is_loading--;\n",
              "      if (root._bokeh_is_loading === 0) {\n",
              "        console.debug(\"Bokeh: all BokehJS libraries\/stylesheets loaded\");\n",
              "        run_callbacks()\n",
              "      }\n",
              "    }\n",
              "\n",
              "    function on_error(url) {\n",
              "      console.error(\"failed to load \" + url);\n",
              "    }\n",
              "\n",
              "    for (let i = 0; i < css_urls.length; i++) {\n",
              "      const url = css_urls[i];\n",
              "      const element = document.createElement(\"link\");\n",
              "      element.onload = on_load;\n",
              "      element.onerror = on_error.bind(null, url);\n",
              "      element.rel = \"stylesheet\";\n",
              "      element.type = \"text\/css\";\n",
              "      element.href = url;\n",
              "      console.debug(\"Bokeh: injecting link tag for BokehJS stylesheet: \", url);\n",
              "      document.body.appendChild(element);\n",
              "    }\n",
              "\n",
              "    const hashes = {\"https:\/\/cdn.bokeh.org\/bokeh\/release\/bokeh-2.3.0.min.js\": \"HjagQp6T0\/7bxYTAXbLotF1MLAGWmhkY5siA1Gc\/pcEgvgRPtMsRn0gQtMwGKiw1\", \"https:\/\/cdn.bokeh.org\/bokeh\/release\/bokeh-widgets-2.3.0.min.js\": \"ZEPPTjL+mdyqgIq+\/pl9KTwzji8Kow2NnI3zWY8+sFinWP\/SYJ80BnfeJsa45iYj\", \"https:\/\/cdn.bokeh.org\/bokeh\/release\/bokeh-tables-2.3.0.min.js\": \"exLqv2ACDRIaV7ZK1iL8aGzGYQvKVuT3U2CT7FsQREBxRah6JrkVCoFy0koY1YqV\"};\n",
              "\n",
              "    for (let i = 0; i < js_urls.length; i++) {\n",
              "      const url = js_urls[i];\n",
              "      const element = document.createElement('script');\n",
              "      element.onload = on_load;\n",
              "      element.onerror = on_error.bind(null, url);\n",
              "      element.async = false;\n",
              "      element.src = url;\n",
              "      if (url in hashes) {\n",
              "        element.crossOrigin = \"anonymous\";\n",
              "        element.integrity = \"sha384-\" + hashes[url];\n",
              "      }\n",
              "      console.debug(\"Bokeh: injecting script tag for BokehJS library: \", url);\n",
              "      document.head.appendChild(element);\n",
              "    }\n",
              "  };\n",
              "\n",
              "  function inject_raw_css(css) {\n",
              "    const element = document.createElement(\"style\");\n",
              "    element.appendChild(document.createTextNode(css));\n",
              "    document.body.appendChild(element);\n",
              "  }\n",
              "\n",
              "  \n",
              "  var js_urls = [\"https:\/\/cdn.bokeh.org\/bokeh\/release\/bokeh-2.3.0.min.js\", \"https:\/\/cdn.bokeh.org\/bokeh\/release\/bokeh-widgets-2.3.0.min.js\", \"https:\/\/cdn.bokeh.org\/bokeh\/release\/bokeh-tables-2.3.0.min.js\"];\n",
              "  var css_urls = [];\n",
              "  \n",
              "\n",
              "  var inline_js = [\n",
              "    function(Bokeh) {\n",
              "      Bokeh.set_log_level(\"info\");\n",
              "    },\n",
              "    function(Bokeh) {\n",
              "    \n",
              "    \n",
              "    }\n",
              "  ];\n",
              "\n",
              "  function run_inline_js() {\n",
              "    \n",
              "    if (root.Bokeh !== undefined || force === true) {\n",
              "      \n",
              "    for (var i = 0; i < inline_js.length; i++) {\n",
              "      inline_js[i].call(root, root.Bokeh);\n",
              "    }\n",
              "    if (force === true) {\n",
              "        display_loaded();\n",
              "      }} else if (Date.now() < root._bokeh_timeout) {\n",
              "      setTimeout(run_inline_js, 100);\n",
              "    } else if (!root._bokeh_failed_load) {\n",
              "      console.log(\"Bokeh: BokehJS failed to load within specified timeout.\");\n",
              "      root._bokeh_failed_load = true;\n",
              "    } else if (force !== true) {\n",
              "      var cell = $(document.getElementById(\"12662\")).parents('.cell').data().cell;\n",
              "      cell.output_area.append_execute_result(NB_LOAD_WARNING)\n",
              "    }\n",
              "\n",
              "  }\n",
              "\n",
              "  if (root._bokeh_is_loading === 0) {\n",
              "    console.debug(\"Bokeh: BokehJS loaded, going straight to plotting\");\n",
              "    run_inline_js();\n",
              "  } else {\n",
              "    load_libs(css_urls, js_urls, function() {\n",
              "      console.debug(\"Bokeh: BokehJS plotting callback run at\", now());\n",
              "      run_inline_js();\n",
              "    });\n",
              "  }\n",
              "}(window));<\/script>"
            ]
          },
          "metadata":{
            
          },
          "output_type":"display_data"
        }
      ],
      "metadata":{
        "datalore":{
          "sheet_delimiter":false
        }
      }
    },
    {
      "cell_type":"markdown",
      "source":[
        "**A.** Реализуйте методы класса `Building1` так, чтобы выражение `A & B` определяло, пересекаются  \n",
        " ли здания A и B путём такой проверки:  \n",
        "&nbsp; &nbsp;   – попадает ли хотя бы один из четырёх углов здания A в «габариты» здания B и наоборот,  \n",
        "&nbsp; &nbsp;   – попадает ли хотя бы один из углов B в габариты A."
      ],
      "attachments":{
        
      },
      "metadata":{
        "datalore":{
          "sheet_delimiter":false
        }
      }
    },
    {
      "cell_type":"code",
      "source":[
        "class Building1:\n",
        "    \"\"\"Реализация класса здание с определением пересечений способом 1\"\"\"\n",
        "    # ^^^ по таким строкам автоматически генерируется документация, попробуйте\n",
        "    # (после выполнения этой ячейки) написать help(Building1) или нажать shift-tab на\n",
        "    # слове Building1. Это называется docstrings. Как обычно, отступ слева\n",
        "    # должен быть такой же, как у вложенного блока (в данном случае, как у методов класса).\n",
        "    def __init__(self, x1, y1, x2, y2):\n",
        "        \"\"\"Создаёт здание по координатам двух противоположных его углов\"\"\"\n",
        "        self.x1, self.x2 = (x1, x2) if x1 < x2 else (x2, x1)\n",
        "        self.y1, self.y2 = (y1, y2) if y1 < y2 else (y2, y1)\n",
        "\n",
        "    def __repr__(self):\n",
        "        return f'Building1({self.x1}, {self.y1}, {self.x2}, {self.y2})'\n",
        "\n",
        "    def __contains__(self, point):\n",
        "        \"\"\"Определяет, находится ли точка point внутри здания.\n",
        "        Вызывается при исполнении выражения '(x, y) in building' \"\"\"\n",
        "        x, y = point\n",
        "        return self.x1 <= x <= self.x2 and self.y1 <= y <= self.y2\n",
        "\n",
        "\n",
        "    def corners(self):\n",
        "        \"\"\"Возвращает список из координат всех четырёх углов здания\"\"\"\n",
        "        return [(self.x1, self.y1), (self.x2, self.y2), (self.x1, self.y2), (self.x2, self.y1)]\n",
        "\n",
        "    def cross_checker(border1,border2):\n",
        "            for elem in border1.corners():\n",
        "                if border2.x1 <= elem[0] <= border2.x2 and b1.y1 <= elem[1] <= border2.y2:\n",
        "                    return True\n",
        "            return False  \n",
        "\n",
        "    def __and__(self, other):\n",
        "        \"\"\"Реализует оператор &, который определяет, пересекаются ли \n",
        "        здания self и other первым способом (через углы)\"\"\"\n",
        "        # для вычисления b1 & b2 питон вызывает метод b1.__and__(b2) \n",
        "        # здесь удобно использовать метод corners и перегруженный оператор in \n",
        "        b1, b2 = self, other    # удобно переобозвать их - так короче и симметричнее  \n",
        "        iscross = False   \n",
        "        for elem in b1.corners():\n",
        "                    if b2.x1 <= elem[0] <= b2.x2 and b2.y1 <= elem[1] <= b2.y2:\n",
        "                        iscross = True\n",
        "        if not iscross:\n",
        "            for elem in b2.corners():\n",
        "                    if b1.x1 <= elem[0] <= b1.x2 and b1.y1 <= elem[1] <= b1.y2:\n",
        "                        iscross = True\n",
        "        return iscross                \n",
        "    "
      ],
      "execution_count":133,
      "outputs":[
        
      ],
      "metadata":{
        "datalore":{
          "sheet_delimiter":false
        }
      }
    },
    {
      "cell_type":"code",
      "source":[
        "def test(got, expected):\n",
        "    print(' OK ' if got == expected else '  X ',\n",
        "          f'Получено: {got} | Ожидалось: {expected}')"
      ],
      "execution_count":134,
      "outputs":[
        
      ],
      "metadata":{
        "datalore":{
          "sheet_delimiter":false
        }
      }
    },
    {
      "cell_type":"code",
      "source":[
        "test(len(Building1(0, 1, 2, 3).corners()), 4)\n",
        "test((0, 3) in Building1(0, 1, 2, 3).corners(), True)"
      ],
      "execution_count":135,
      "outputs":[
        {
          "name":"stdout",
          "text":[
            " OK  Получено: 4 | Ожидалось: 4\n",
            " OK  Получено: True | Ожидалось: True\n"
          ],
          "output_type":"stream"
        }
      ],
      "metadata":{
        "datalore":{
          "sheet_delimiter":false
        }
      }
    },
    {
      "cell_type":"code",
      "source":[
        "b = Building1(0, 0, 2, 4)\n",
        "test((0, 0) in b, True)\n",
        "test((1, 3) in b, True)\n",
        "test((3, 1) not in b, True)"
      ],
      "execution_count":136,
      "outputs":[
        {
          "name":"stdout",
          "text":[
            " OK  Получено: True | Ожидалось: True\n",
            " OK  Получено: True | Ожидалось: True\n",
            " OK  Получено: True | Ожидалось: True\n"
          ],
          "output_type":"stream"
        }
      ],
      "metadata":{
        "datalore":{
          "sheet_delimiter":false
        }
      }
    },
    {
      "cell_type":"code",
      "source":[
        "test(Building1(0, 0, 1, 1) & Building1(2, 2, 3, 3), False)\n",
        "test(Building1(0, 0, 2, 2) & Building1(1, 1, 3, 3), True)\n",
        "test(Building1(2, 2, 0, 0) & Building1(3, 3, 1, 1), True)"
      ],
      "execution_count":137,
      "outputs":[
        {
          "name":"stdout",
          "text":[
            " OK  Получено: False | Ожидалось: False\n",
            " OK  Получено: True | Ожидалось: True\n",
            " OK  Получено: True | Ожидалось: True\n"
          ],
          "output_type":"stream"
        }
      ],
      "metadata":{
        "datalore":{
          "sheet_delimiter":false
        }
      }
    },
    {
      "cell_type":"code",
      "source":[
        "def vis(b1, b2):      # визуализация пары зданий\n",
        "    p = bokeh.plotting.figure(plot_width=750, plot_height=300)\n",
        "    blue1, blue2 = \"#dae8fc\", '#6c8ebf'\n",
        "    green1, green2 = \"#d5e8d4\", '#82b366'\n",
        "    r1 = p.quad(top=[b1.y2], bottom=[b1.y1], left=[b1.x1], right=[b1.x2], \n",
        "           fill_color=blue1, line_color=blue2, fill_alpha=0.5)\n",
        "    r2 = p.quad(top=[b2.y2], bottom=[b2.y1], left=[b2.x1], right=[b2.x2], \n",
        "           fill_color=green1, line_color=green2, fill_alpha=0.5)\n",
        "    bokeh.plotting.show(p, notebook_handle=True)\n",
        "    return r1, r2"
      ],
      "execution_count":138,
      "outputs":[
        
      ],
      "metadata":{
        "datalore":{
          "sheet_delimiter":false
        }
      }
    },
    {
      "cell_type":"code",
      "source":[
        "b1, b2 = Building1(0, 0, 4, 3), Building1(2, 2, 6, 5)\n",
        "vis(b1, b2)\n",
        "test(b1 & b2, True)"
      ],
      "execution_count":139,
      "outputs":[
        {
          "name":"stdout",
          "text":[
            " OK  Получено: True | Ожидалось: True\n"
          ],
          "output_type":"stream"
        },
        {
          "data":{
            "text\/html":[
              "<script>(function(root) {\n",
              "  function embed_document(root) {\n",
              "    \n",
              "  var docs_json = {\"ff62afba-86f1-42c4-8c70-530fe21fbfb4\":{\"defs\":[{\"extends\":null,\"module\":null,\"name\":\"DataModel\",\"overrides\":[],\"properties\":[]}],\"roots\":{\"references\":[{\"attributes\":{\"below\":[{\"id\":\"12672\"}],\"center\":[{\"id\":\"12675\"},{\"id\":\"12679\"}],\"height\":300,\"left\":[{\"id\":\"12676\"}],\"renderers\":[{\"id\":\"12697\"},{\"id\":\"12702\"}],\"title\":{\"id\":\"13094\"},\"toolbar\":{\"id\":\"12687\"},\"width\":750,\"x_range\":{\"id\":\"12664\"},\"x_scale\":{\"id\":\"12668\"},\"y_range\":{\"id\":\"12666\"},\"y_scale\":{\"id\":\"12670\"}},\"id\":\"12663\",\"subtype\":\"Figure\",\"type\":\"Plot\"},{\"attributes\":{\"source\":{\"id\":\"12694\"}},\"id\":\"12698\",\"type\":\"CDSView\"},{\"attributes\":{\"active_multi\":null,\"tools\":[{\"id\":\"12680\"},{\"id\":\"12681\"},{\"id\":\"12682\"},{\"id\":\"12683\"},{\"id\":\"12684\"},{\"id\":\"12685\"}]},\"id\":\"12687\",\"type\":\"Toolbar\"},{\"attributes\":{\"data_source\":{\"id\":\"12699\"},\"glyph\":{\"id\":\"12700\"},\"hover_glyph\":null,\"muted_glyph\":null,\"nonselection_glyph\":{\"id\":\"12701\"},\"view\":{\"id\":\"12703\"}},\"id\":\"12702\",\"type\":\"GlyphRenderer\"},{\"attributes\":{\"formatter\":{\"id\":\"13096\"},\"major_label_policy\":{\"id\":\"13097\"},\"ticker\":{\"id\":\"12673\"}},\"id\":\"12672\",\"type\":\"LinearAxis\"},{\"attributes\":{},\"id\":\"13099\",\"type\":\"BasicTickFormatter\"},{\"attributes\":{\"source\":{\"id\":\"12699\"}},\"id\":\"12703\",\"type\":\"CDSView\"},{\"attributes\":{},\"id\":\"13100\",\"type\":\"AllLabels\"},{\"attributes\":{},\"id\":\"13105\",\"type\":\"UnionRenderers\"},{\"attributes\":{},\"id\":\"12666\",\"type\":\"DataRange1d\"},{\"attributes\":{\"axis\":{\"id\":\"12672\"},\"ticker\":null},\"id\":\"12675\",\"type\":\"Grid\"},{\"attributes\":{},\"id\":\"13096\",\"type\":\"BasicTickFormatter\"},{\"attributes\":{\"bottom_units\":\"screen\",\"fill_alpha\":0.5,\"fill_color\":\"lightgrey\",\"left_units\":\"screen\",\"level\":\"overlay\",\"line_alpha\":1.0,\"line_color\":\"black\",\"line_dash\":[4,4],\"line_width\":2,\"right_units\":\"screen\",\"syncable\":false,\"top_units\":\"screen\"},\"id\":\"12686\",\"type\":\"BoxAnnotation\"},{\"attributes\":{\"bottom\":{\"field\":\"bottom\"},\"fill_alpha\":{\"value\":0.5},\"fill_color\":{\"value\":\"#dae8fc\"},\"left\":{\"field\":\"left\"},\"line_color\":{\"value\":\"#6c8ebf\"},\"right\":{\"field\":\"right\"},\"top\":{\"field\":\"top\"}},\"id\":\"12695\",\"type\":\"Quad\"},{\"attributes\":{\"data\":{\"bottom\":[0],\"left\":[0],\"right\":[4],\"top\":[3]},\"selected\":{\"id\":\"13104\"},\"selection_policy\":{\"id\":\"13103\"}},\"id\":\"12694\",\"type\":\"ColumnDataSource\"},{\"attributes\":{},\"id\":\"12677\",\"type\":\"BasicTicker\"},{\"attributes\":{},\"id\":\"13097\",\"type\":\"AllLabels\"},{\"attributes\":{\"data_source\":{\"id\":\"12694\"},\"glyph\":{\"id\":\"12695\"},\"hover_glyph\":null,\"muted_glyph\":null,\"nonselection_glyph\":{\"id\":\"12696\"},\"view\":{\"id\":\"12698\"}},\"id\":\"12697\",\"type\":\"GlyphRenderer\"},{\"attributes\":{},\"id\":\"12673\",\"type\":\"BasicTicker\"},{\"attributes\":{\"bottom\":{\"field\":\"bottom\"},\"fill_alpha\":{\"value\":0.1},\"fill_color\":{\"value\":\"#d5e8d4\"},\"left\":{\"field\":\"left\"},\"line_alpha\":{\"value\":0.1},\"line_color\":{\"value\":\"#82b366\"},\"right\":{\"field\":\"right\"},\"top\":{\"field\":\"top\"}},\"id\":\"12701\",\"type\":\"Quad\"},{\"attributes\":{\"data\":{\"bottom\":[2],\"left\":[2],\"right\":[6],\"top\":[5]},\"selected\":{\"id\":\"13106\"},\"selection_policy\":{\"id\":\"13105\"}},\"id\":\"12699\",\"type\":\"ColumnDataSource\"},{\"attributes\":{},\"id\":\"12668\",\"type\":\"LinearScale\"},{\"attributes\":{},\"id\":\"12680\",\"type\":\"PanTool\"},{\"attributes\":{\"axis\":{\"id\":\"12676\"},\"dimension\":1,\"ticker\":null},\"id\":\"12679\",\"type\":\"Grid\"},{\"attributes\":{},\"id\":\"13104\",\"type\":\"Selection\"},{\"attributes\":{},\"id\":\"13106\",\"type\":\"Selection\"},{\"attributes\":{},\"id\":\"13103\",\"type\":\"UnionRenderers\"},{\"attributes\":{\"overlay\":{\"id\":\"12686\"}},\"id\":\"12682\",\"type\":\"BoxZoomTool\"},{\"attributes\":{},\"id\":\"12685\",\"type\":\"HelpTool\"},{\"attributes\":{},\"id\":\"12670\",\"type\":\"LinearScale\"},{\"attributes\":{\"bottom\":{\"field\":\"bottom\"},\"fill_alpha\":{\"value\":0.1},\"fill_color\":{\"value\":\"#dae8fc\"},\"left\":{\"field\":\"left\"},\"line_alpha\":{\"value\":0.1},\"line_color\":{\"value\":\"#6c8ebf\"},\"right\":{\"field\":\"right\"},\"top\":{\"field\":\"top\"}},\"id\":\"12696\",\"type\":\"Quad\"},{\"attributes\":{},\"id\":\"13094\",\"type\":\"Title\"},{\"attributes\":{},\"id\":\"12681\",\"type\":\"WheelZoomTool\"},{\"attributes\":{\"bottom\":{\"field\":\"bottom\"},\"fill_alpha\":{\"value\":0.5},\"fill_color\":{\"value\":\"#d5e8d4\"},\"left\":{\"field\":\"left\"},\"line_color\":{\"value\":\"#82b366\"},\"right\":{\"field\":\"right\"},\"top\":{\"field\":\"top\"}},\"id\":\"12700\",\"type\":\"Quad\"},{\"attributes\":{\"formatter\":{\"id\":\"13099\"},\"major_label_policy\":{\"id\":\"13100\"},\"ticker\":{\"id\":\"12677\"}},\"id\":\"12676\",\"type\":\"LinearAxis\"},{\"attributes\":{},\"id\":\"12664\",\"type\":\"DataRange1d\"},{\"attributes\":{},\"id\":\"12683\",\"type\":\"SaveTool\"},{\"attributes\":{},\"id\":\"12684\",\"type\":\"ResetTool\"}],\"root_ids\":[\"12663\"]},\"title\":\"Bokeh Application\",\"version\":\"2.3.0\"}};\n",
              "  var render_items = [{\"docid\":\"ff62afba-86f1-42c4-8c70-530fe21fbfb4\",\"notebook_comms_target\":\"13107\",\"root_ids\":[\"12663\"],\"roots\":{\"12663\":\"ecff77b4-618c-4bd2-9860-aa866000bbc1\"}}];\n",
              "  root.Bokeh.embed.embed_items_notebook(docs_json, render_items);\n",
              "\n",
              "  }\n",
              "  if (root.Bokeh !== undefined) {\n",
              "    embed_document(root);\n",
              "  } else {\n",
              "    var attempts = 0;\n",
              "    var timer = setInterval(function(root) {\n",
              "      if (root.Bokeh !== undefined) {\n",
              "        clearInterval(timer);\n",
              "        embed_document(root);\n",
              "      } else {\n",
              "        attempts++;\n",
              "        if (attempts > 100) {\n",
              "          clearInterval(timer);\n",
              "          console.log(\"Bokeh: ERROR: Unable to run BokehJS code because BokehJS library is missing\");\n",
              "        }\n",
              "      }\n",
              "    }, 10, root)\n",
              "  }\n",
              "})(window);<\/script><script><\/script>"
            ]
          },
          "metadata":{
            
          },
          "output_type":"display_data"
        }
      ],
      "metadata":{
        "datalore":{
          "sheet_delimiter":false
        }
      }
    },
    {
      "cell_type":"code",
      "source":[
        "b1, b2 = Building1(0, 0, 10, 5), Building1(2, 1, 8, 4)\n",
        "vis(b1, b2)\n",
        "test(b1 & b2, True)\n",
        "test(b2 & b1, True)"
      ],
      "execution_count":140,
      "outputs":[
        {
          "name":"stdout",
          "text":[
            " OK  Получено: True | Ожидалось: True\n",
            " OK  Получено: True | Ожидалось: True\n"
          ],
          "output_type":"stream"
        },
        {
          "data":{
            "text\/html":[
              "<script>(function(root) {\n",
              "  function embed_document(root) {\n",
              "    \n",
              "  var docs_json = {\"7960eb58-8d07-4000-bf7e-0713bdef11d7\":{\"defs\":[{\"extends\":null,\"module\":null,\"name\":\"DataModel\",\"overrides\":[],\"properties\":[]}],\"roots\":{\"references\":[{\"attributes\":{\"below\":[{\"id\":\"13182\"}],\"center\":[{\"id\":\"13185\"},{\"id\":\"13189\"}],\"height\":300,\"left\":[{\"id\":\"13186\"}],\"renderers\":[{\"id\":\"13207\"},{\"id\":\"13212\"}],\"title\":{\"id\":\"13617\"},\"toolbar\":{\"id\":\"13197\"},\"width\":750,\"x_range\":{\"id\":\"13174\"},\"x_scale\":{\"id\":\"13178\"},\"y_range\":{\"id\":\"13176\"},\"y_scale\":{\"id\":\"13180\"}},\"id\":\"13173\",\"subtype\":\"Figure\",\"type\":\"Plot\"},{\"attributes\":{},\"id\":\"13194\",\"type\":\"ResetTool\"},{\"attributes\":{},\"id\":\"13174\",\"type\":\"DataRange1d\"},{\"attributes\":{\"formatter\":{\"id\":\"13619\"},\"major_label_policy\":{\"id\":\"13620\"},\"ticker\":{\"id\":\"13183\"}},\"id\":\"13182\",\"type\":\"LinearAxis\"},{\"attributes\":{\"source\":{\"id\":\"13209\"}},\"id\":\"13213\",\"type\":\"CDSView\"},{\"attributes\":{},\"id\":\"13622\",\"type\":\"BasicTickFormatter\"},{\"attributes\":{},\"id\":\"13620\",\"type\":\"AllLabels\"},{\"attributes\":{},\"id\":\"13193\",\"type\":\"SaveTool\"},{\"attributes\":{\"bottom\":{\"field\":\"bottom\"},\"fill_alpha\":{\"value\":0.5},\"fill_color\":{\"value\":\"#dae8fc\"},\"left\":{\"field\":\"left\"},\"line_color\":{\"value\":\"#6c8ebf\"},\"right\":{\"field\":\"right\"},\"top\":{\"field\":\"top\"}},\"id\":\"13205\",\"type\":\"Quad\"},{\"attributes\":{\"data\":{\"bottom\":[0],\"left\":[0],\"right\":[10],\"top\":[5]},\"selected\":{\"id\":\"13627\"},\"selection_policy\":{\"id\":\"13626\"}},\"id\":\"13204\",\"type\":\"ColumnDataSource\"},{\"attributes\":{\"data_source\":{\"id\":\"13204\"},\"glyph\":{\"id\":\"13205\"},\"hover_glyph\":null,\"muted_glyph\":null,\"nonselection_glyph\":{\"id\":\"13206\"},\"view\":{\"id\":\"13208\"}},\"id\":\"13207\",\"type\":\"GlyphRenderer\"},{\"attributes\":{},\"id\":\"13628\",\"type\":\"UnionRenderers\"},{\"attributes\":{},\"id\":\"13619\",\"type\":\"BasicTickFormatter\"},{\"attributes\":{\"bottom_units\":\"screen\",\"fill_alpha\":0.5,\"fill_color\":\"lightgrey\",\"left_units\":\"screen\",\"level\":\"overlay\",\"line_alpha\":1.0,\"line_color\":\"black\",\"line_dash\":[4,4],\"line_width\":2,\"right_units\":\"screen\",\"syncable\":false,\"top_units\":\"screen\"},\"id\":\"13196\",\"type\":\"BoxAnnotation\"},{\"attributes\":{\"data_source\":{\"id\":\"13209\"},\"glyph\":{\"id\":\"13210\"},\"hover_glyph\":null,\"muted_glyph\":null,\"nonselection_glyph\":{\"id\":\"13211\"},\"view\":{\"id\":\"13213\"}},\"id\":\"13212\",\"type\":\"GlyphRenderer\"},{\"attributes\":{},\"id\":\"13191\",\"type\":\"WheelZoomTool\"},{\"attributes\":{\"bottom\":{\"field\":\"bottom\"},\"fill_alpha\":{\"value\":0.1},\"fill_color\":{\"value\":\"#d5e8d4\"},\"left\":{\"field\":\"left\"},\"line_alpha\":{\"value\":0.1},\"line_color\":{\"value\":\"#82b366\"},\"right\":{\"field\":\"right\"},\"top\":{\"field\":\"top\"}},\"id\":\"13211\",\"type\":\"Quad\"},{\"attributes\":{},\"id\":\"13627\",\"type\":\"Selection\"},{\"attributes\":{},\"id\":\"13178\",\"type\":\"LinearScale\"},{\"attributes\":{},\"id\":\"13176\",\"type\":\"DataRange1d\"},{\"attributes\":{},\"id\":\"13183\",\"type\":\"BasicTicker\"},{\"attributes\":{},\"id\":\"13180\",\"type\":\"LinearScale\"},{\"attributes\":{\"overlay\":{\"id\":\"13196\"}},\"id\":\"13192\",\"type\":\"BoxZoomTool\"},{\"attributes\":{\"active_multi\":null,\"tools\":[{\"id\":\"13190\"},{\"id\":\"13191\"},{\"id\":\"13192\"},{\"id\":\"13193\"},{\"id\":\"13194\"},{\"id\":\"13195\"}]},\"id\":\"13197\",\"type\":\"Toolbar\"},{\"attributes\":{\"source\":{\"id\":\"13204\"}},\"id\":\"13208\",\"type\":\"CDSView\"},{\"attributes\":{},\"id\":\"13626\",\"type\":\"UnionRenderers\"},{\"attributes\":{\"bottom\":{\"field\":\"bottom\"},\"fill_alpha\":{\"value\":0.5},\"fill_color\":{\"value\":\"#d5e8d4\"},\"left\":{\"field\":\"left\"},\"line_color\":{\"value\":\"#82b366\"},\"right\":{\"field\":\"right\"},\"top\":{\"field\":\"top\"}},\"id\":\"13210\",\"type\":\"Quad\"},{\"attributes\":{},\"id\":\"13195\",\"type\":\"HelpTool\"},{\"attributes\":{\"formatter\":{\"id\":\"13622\"},\"major_label_policy\":{\"id\":\"13623\"},\"ticker\":{\"id\":\"13187\"}},\"id\":\"13186\",\"type\":\"LinearAxis\"},{\"attributes\":{\"axis\":{\"id\":\"13186\"},\"dimension\":1,\"ticker\":null},\"id\":\"13189\",\"type\":\"Grid\"},{\"attributes\":{\"bottom\":{\"field\":\"bottom\"},\"fill_alpha\":{\"value\":0.1},\"fill_color\":{\"value\":\"#dae8fc\"},\"left\":{\"field\":\"left\"},\"line_alpha\":{\"value\":0.1},\"line_color\":{\"value\":\"#6c8ebf\"},\"right\":{\"field\":\"right\"},\"top\":{\"field\":\"top\"}},\"id\":\"13206\",\"type\":\"Quad\"},{\"attributes\":{},\"id\":\"13190\",\"type\":\"PanTool\"},{\"attributes\":{},\"id\":\"13617\",\"type\":\"Title\"},{\"attributes\":{\"data\":{\"bottom\":[1],\"left\":[2],\"right\":[8],\"top\":[4]},\"selected\":{\"id\":\"13629\"},\"selection_policy\":{\"id\":\"13628\"}},\"id\":\"13209\",\"type\":\"ColumnDataSource\"},{\"attributes\":{},\"id\":\"13187\",\"type\":\"BasicTicker\"},{\"attributes\":{},\"id\":\"13629\",\"type\":\"Selection\"},{\"attributes\":{\"axis\":{\"id\":\"13182\"},\"ticker\":null},\"id\":\"13185\",\"type\":\"Grid\"},{\"attributes\":{},\"id\":\"13623\",\"type\":\"AllLabels\"}],\"root_ids\":[\"13173\"]},\"title\":\"Bokeh Application\",\"version\":\"2.3.0\"}};\n",
              "  var render_items = [{\"docid\":\"7960eb58-8d07-4000-bf7e-0713bdef11d7\",\"notebook_comms_target\":\"13630\",\"root_ids\":[\"13173\"],\"roots\":{\"13173\":\"0b3b3cd6-94b1-408a-bd81-75d6e27bdd61\"}}];\n",
              "  root.Bokeh.embed.embed_items_notebook(docs_json, render_items);\n",
              "\n",
              "  }\n",
              "  if (root.Bokeh !== undefined) {\n",
              "    embed_document(root);\n",
              "  } else {\n",
              "    var attempts = 0;\n",
              "    var timer = setInterval(function(root) {\n",
              "      if (root.Bokeh !== undefined) {\n",
              "        clearInterval(timer);\n",
              "        embed_document(root);\n",
              "      } else {\n",
              "        attempts++;\n",
              "        if (attempts > 100) {\n",
              "          clearInterval(timer);\n",
              "          console.log(\"Bokeh: ERROR: Unable to run BokehJS code because BokehJS library is missing\");\n",
              "        }\n",
              "      }\n",
              "    }, 10, root)\n",
              "  }\n",
              "})(window);<\/script><script><\/script>"
            ]
          },
          "metadata":{
            
          },
          "output_type":"display_data"
        }
      ],
      "metadata":{
        "datalore":{
          "sheet_delimiter":false
        }
      }
    },
    {
      "cell_type":"markdown",
      "source":[
        "**B.** Реализуйте класс Building2, наследующийся от Building1, в котором пересечение  \n",
        "определялось бы правильно.\n",
        "\n",
        "В референсном решении четыре оператора сравнения. Если у вас больше, вероятно, что-то вы   \n",
        "делаете неоптимально."
      ],
      "attachments":{
        
      },
      "metadata":{
        "datalore":{
          "sheet_delimiter":false
        }
      }
    },
    {
      "cell_type":"code",
      "source":[
        "class Building2(Building1):\n",
        "    \"\"\"Реализация класса здание с определением пересечений \n",
        "    вторым способом (через проекции)\"\"\"\n",
        "    def __and__(self, other):\n",
        "        b1, b2 = self, other\n",
        "        return  not (b1.x1 > b2.x2 or b1.x2 < b2.x1 or b1.y1 > b2.y2 or b1.y2 < b2.y1)"
      ],
      "execution_count":141,
      "outputs":[
        
      ],
      "metadata":{
        "datalore":{
          "sheet_delimiter":false
        }
      }
    },
    {
      "cell_type":"markdown",
      "source":[
        "Здесь pass - это аналог пустых скобок в си, чтобы питон понял, что это не ошибка в отступах,  \n",
        "а действительно пустое тело функции\/класса\/цикла и т.д., например, бесконечный цикл  \n",
        "записывается так:\n",
        "\n",
        "    while True:  \n",
        "        pass"
      ],
      "attachments":{
        
      },
      "metadata":{
        "datalore":{
          "sheet_delimiter":false
        }
      }
    },
    {
      "cell_type":"code",
      "source":[
        "def build_random(c):\n",
        "    \"\"\"Эта функция генерирует экземпляр здания типа с\n",
        "    ненулевой площади со случайными координатами (для тестов).\n",
        "    Например, build_random(Building1) \"строит\" здание типа Building1.\"\"\"\n",
        "    x, y, dx, dy = [randint(1, 20) for k in range(4)]\n",
        "    return c(x, y, x+dx, y+dy)"
      ],
      "execution_count":142,
      "outputs":[
        
      ],
      "metadata":{
        "datalore":{
          "sheet_delimiter":false
        }
      }
    },
    {
      "cell_type":"markdown",
      "source":[
        "Этот тест ищет такие пары зданий, для которых эти два метода поиска пересечений дают разные  \n",
        "результаты. Он должен автоматически найти ситуацию с рис.2с из задания:"
      ],
      "attachments":{
        
      },
      "metadata":{
        "datalore":{
          "sheet_delimiter":false
        }
      }
    },
    {
      "cell_type":"code",
      "source":[
        "from time import sleep\n",
        "r1, r2 = None, None\n",
        "for i in range(1000):\n",
        "    b1, b2 = build_random(Building1), build_random(Building2)\n",
        "    if r1 is None:\n",
        "        r1, r2 = vis(b1, b2)\n",
        "    else:\n",
        "        r1.data_source.data.update(top=[b1.y2], bottom=[b1.y1], left=[b1.x1], right=[b1.x2])\n",
        "        r2.data_source.data.update(top=[b2.y2], bottom=[b2.y1], left=[b2.x1], right=[b2.x2])\n",
        "        push_notebook()\n",
        "    if b1 & b2 != b2 & b1:\n",
        "        print(f'Различие найдено: b1={b1} b2={b2}')\n",
        "        break\n",
        "    sleep(0.1)\n",
        "else:\n",
        "    print('Различий не найдено')"
      ],
      "execution_count":147,
      "outputs":[
        {
          "name":"stdout",
          "text":[
            "Различие найдено: b1=Building1(7, 6, 11, 21) b2=Building1(4, 11, 14, 18)\n"
          ],
          "output_type":"stream"
        },
        {
          "data":{
            "text\/html":[
              "<script>(function(root) {\n",
              "  function embed_document(root) {\n",
              "    \n",
              "  var docs_json = {\"f0994185-02da-499f-b263-ea7264dfe92a\":{\"defs\":[{\"extends\":null,\"module\":null,\"name\":\"DataModel\",\"overrides\":[],\"properties\":[]}],\"roots\":{\"references\":[{\"attributes\":{\"below\":[{\"id\":\"16048\"}],\"center\":[{\"id\":\"16051\"},{\"id\":\"16055\"}],\"height\":300,\"left\":[{\"id\":\"16052\"}],\"renderers\":[{\"id\":\"16073\"},{\"id\":\"16078\"}],\"title\":{\"id\":\"16548\"},\"toolbar\":{\"id\":\"16063\"},\"width\":750,\"x_range\":{\"id\":\"16040\"},\"x_scale\":{\"id\":\"16044\"},\"y_range\":{\"id\":\"16042\"},\"y_scale\":{\"id\":\"16046\"}},\"id\":\"16039\",\"subtype\":\"Figure\",\"type\":\"Plot\"},{\"attributes\":{},\"id\":\"16560\",\"type\":\"Selection\"},{\"attributes\":{},\"id\":\"16551\",\"type\":\"AllLabels\"},{\"attributes\":{},\"id\":\"16056\",\"type\":\"PanTool\"},{\"attributes\":{\"overlay\":{\"id\":\"16062\"}},\"id\":\"16058\",\"type\":\"BoxZoomTool\"},{\"attributes\":{},\"id\":\"16554\",\"type\":\"AllLabels\"},{\"attributes\":{},\"id\":\"16046\",\"type\":\"LinearScale\"},{\"attributes\":{},\"id\":\"16049\",\"type\":\"BasicTicker\"},{\"attributes\":{},\"id\":\"16059\",\"type\":\"SaveTool\"},{\"attributes\":{\"bottom\":{\"field\":\"bottom\"},\"fill_alpha\":{\"value\":0.5},\"fill_color\":{\"value\":\"#dae8fc\"},\"left\":{\"field\":\"left\"},\"line_color\":{\"value\":\"#6c8ebf\"},\"right\":{\"field\":\"right\"},\"top\":{\"field\":\"top\"}},\"id\":\"16071\",\"type\":\"Quad\"},{\"attributes\":{\"bottom\":{\"field\":\"bottom\"},\"fill_alpha\":{\"value\":0.5},\"fill_color\":{\"value\":\"#d5e8d4\"},\"left\":{\"field\":\"left\"},\"line_color\":{\"value\":\"#82b366\"},\"right\":{\"field\":\"right\"},\"top\":{\"field\":\"top\"}},\"id\":\"16076\",\"type\":\"Quad\"},{\"attributes\":{\"formatter\":{\"id\":\"16550\"},\"major_label_policy\":{\"id\":\"16551\"},\"ticker\":{\"id\":\"16049\"}},\"id\":\"16048\",\"type\":\"LinearAxis\"},{\"attributes\":{\"data\":{\"bottom\":[5],\"left\":[4],\"right\":[7],\"top\":[20]},\"selected\":{\"id\":\"16560\"},\"selection_policy\":{\"id\":\"16559\"}},\"id\":\"16075\",\"type\":\"ColumnDataSource\"},{\"attributes\":{\"source\":{\"id\":\"16070\"}},\"id\":\"16074\",\"type\":\"CDSView\"},{\"attributes\":{},\"id\":\"16053\",\"type\":\"BasicTicker\"},{\"attributes\":{\"bottom\":{\"field\":\"bottom\"},\"fill_alpha\":{\"value\":0.1},\"fill_color\":{\"value\":\"#dae8fc\"},\"left\":{\"field\":\"left\"},\"line_alpha\":{\"value\":0.1},\"line_color\":{\"value\":\"#6c8ebf\"},\"right\":{\"field\":\"right\"},\"top\":{\"field\":\"top\"}},\"id\":\"16072\",\"type\":\"Quad\"},{\"attributes\":{\"bottom_units\":\"screen\",\"fill_alpha\":0.5,\"fill_color\":\"lightgrey\",\"left_units\":\"screen\",\"level\":\"overlay\",\"line_alpha\":1.0,\"line_color\":\"black\",\"line_dash\":[4,4],\"line_width\":2,\"right_units\":\"screen\",\"syncable\":false,\"top_units\":\"screen\"},\"id\":\"16062\",\"type\":\"BoxAnnotation\"},{\"attributes\":{},\"id\":\"16060\",\"type\":\"ResetTool\"},{\"attributes\":{\"data_source\":{\"id\":\"16075\"},\"glyph\":{\"id\":\"16076\"},\"hover_glyph\":null,\"muted_glyph\":null,\"nonselection_glyph\":{\"id\":\"16077\"},\"view\":{\"id\":\"16079\"}},\"id\":\"16078\",\"type\":\"GlyphRenderer\"},{\"attributes\":{},\"id\":\"16557\",\"type\":\"UnionRenderers\"},{\"attributes\":{\"bottom\":{\"field\":\"bottom\"},\"fill_alpha\":{\"value\":0.1},\"fill_color\":{\"value\":\"#d5e8d4\"},\"left\":{\"field\":\"left\"},\"line_alpha\":{\"value\":0.1},\"line_color\":{\"value\":\"#82b366\"},\"right\":{\"field\":\"right\"},\"top\":{\"field\":\"top\"}},\"id\":\"16077\",\"type\":\"Quad\"},{\"attributes\":{},\"id\":\"16042\",\"type\":\"DataRange1d\"},{\"attributes\":{\"data_source\":{\"id\":\"16070\"},\"glyph\":{\"id\":\"16071\"},\"hover_glyph\":null,\"muted_glyph\":null,\"nonselection_glyph\":{\"id\":\"16072\"},\"view\":{\"id\":\"16074\"}},\"id\":\"16073\",\"type\":\"GlyphRenderer\"},{\"attributes\":{},\"id\":\"16550\",\"type\":\"BasicTickFormatter\"},{\"attributes\":{},\"id\":\"16558\",\"type\":\"Selection\"},{\"attributes\":{\"data\":{\"bottom\":[17],\"left\":[12],\"right\":[20],\"top\":[34]},\"selected\":{\"id\":\"16558\"},\"selection_policy\":{\"id\":\"16557\"}},\"id\":\"16070\",\"type\":\"ColumnDataSource\"},{\"attributes\":{\"formatter\":{\"id\":\"16553\"},\"major_label_policy\":{\"id\":\"16554\"},\"ticker\":{\"id\":\"16053\"}},\"id\":\"16052\",\"type\":\"LinearAxis\"},{\"attributes\":{},\"id\":\"16553\",\"type\":\"BasicTickFormatter\"},{\"attributes\":{},\"id\":\"16040\",\"type\":\"DataRange1d\"},{\"attributes\":{},\"id\":\"16061\",\"type\":\"HelpTool\"},{\"attributes\":{},\"id\":\"16559\",\"type\":\"UnionRenderers\"},{\"attributes\":{},\"id\":\"16057\",\"type\":\"WheelZoomTool\"},{\"attributes\":{\"source\":{\"id\":\"16075\"}},\"id\":\"16079\",\"type\":\"CDSView\"},{\"attributes\":{},\"id\":\"16548\",\"type\":\"Title\"},{\"attributes\":{\"axis\":{\"id\":\"16048\"},\"ticker\":null},\"id\":\"16051\",\"type\":\"Grid\"},{\"attributes\":{},\"id\":\"16044\",\"type\":\"LinearScale\"},{\"attributes\":{\"axis\":{\"id\":\"16052\"},\"dimension\":1,\"ticker\":null},\"id\":\"16055\",\"type\":\"Grid\"},{\"attributes\":{\"active_multi\":null,\"tools\":[{\"id\":\"16056\"},{\"id\":\"16057\"},{\"id\":\"16058\"},{\"id\":\"16059\"},{\"id\":\"16060\"},{\"id\":\"16061\"}]},\"id\":\"16063\",\"type\":\"Toolbar\"}],\"root_ids\":[\"16039\"]},\"title\":\"Bokeh Application\",\"version\":\"2.3.0\"}};\n",
              "  var render_items = [{\"docid\":\"f0994185-02da-499f-b263-ea7264dfe92a\",\"notebook_comms_target\":\"16561\",\"root_ids\":[\"16039\"],\"roots\":{\"16039\":\"5e3a8a0c-f909-4ac6-bc9d-99e4b9db5d2d\"}}];\n",
              "  root.Bokeh.embed.embed_items_notebook(docs_json, render_items);\n",
              "\n",
              "  }\n",
              "  if (root.Bokeh !== undefined) {\n",
              "    embed_document(root);\n",
              "  } else {\n",
              "    var attempts = 0;\n",
              "    var timer = setInterval(function(root) {\n",
              "      if (root.Bokeh !== undefined) {\n",
              "        clearInterval(timer);\n",
              "        embed_document(root);\n",
              "      } else {\n",
              "        attempts++;\n",
              "        if (attempts > 100) {\n",
              "          clearInterval(timer);\n",
              "          console.log(\"Bokeh: ERROR: Unable to run BokehJS code because BokehJS library is missing\");\n",
              "        }\n",
              "      }\n",
              "    }, 10, root)\n",
              "  }\n",
              "})(window);<\/script><script><\/script>"
            ]
          },
          "metadata":{
            
          },
          "output_type":"display_data"
        }
      ],
      "metadata":{
        "datalore":{
          "sheet_delimiter":false
        }
      }
    }
  ],
  "metadata":{
    
  },
  "nbformat":4,
  "nbformat_minor":0
}